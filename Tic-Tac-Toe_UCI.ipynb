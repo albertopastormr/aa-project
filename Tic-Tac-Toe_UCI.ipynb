{
 "cells": [
  {
   "cell_type": "markdown",
   "metadata": {},
   "source": [
    "# Introducción"
   ]
  },
  {
   "cell_type": "markdown",
   "metadata": {},
   "source": [
    "En este documento exploraremos y analizaremos un dataset proporcionado por el profesorado que imparte la asignatura _Aprendizaje Automático_ en la Facultad de Informática, Universidad Complutense de Madrid. \n",
    "\n",
    "Implementaremos un modelo que realice predicciones de etiquetado binario utilizando este dataset, considerando múltiples configuraciones para el modelo, observando cómo varía su precisión y eficiencia. Para llevar a cabo estas tareas, utilizaremos las librerías _matplotlib, numpy y scikit-learn_.\n",
    "\n",
    "El objetivo de este ejercicio es, por lo tanto, poner en práctica varias habilidades aprendidas durante el desarrollo de la asignatura a lo largo de los últimos meses. De esta forma, utilizaremos únicamente metodologías impartidas en la asignatura.\n",
    "\n",
    "A continuación, realizaremos la carga de librerías, datos y un breve análisis."
   ]
  },
  {
   "cell_type": "code",
   "execution_count": 294,
   "metadata": {
    "scrolled": true
   },
   "outputs": [],
   "source": [
    "# evita FutureWarning de keras\n",
    "import warnings\n",
    "warnings.filterwarnings('ignore')\n",
    "\n",
    "import numpy as np\n",
    "import matplotlib.pyplot as plt\n",
    "import pandas as pd\n",
    "\n",
    "# sklearn\n",
    "from sklearn.preprocessing import PolynomialFeatures, LabelEncoder, OneHotEncoder\n",
    "from sklearn.svm import SVC\n",
    "from sklearn.model_selection import train_test_split\n",
    "from sklearn.linear_model import LogisticRegression\n",
    "from sklearn.tree import DecisionTreeClassifier  \n",
    "from sklearn.metrics import accuracy_score\n",
    "\n",
    "# keras\n",
    "from keras.models import Sequential\n",
    "from keras.layers import Dense\n",
    "\n",
    "# ficheros .py locales\n",
    "from log_reg import LogReg # /log_reg.py\n",
    "from neural_net import NeuralNet # /neural_net.py\n",
    "from cross_validation import cv_config # /cross_validation\n",
    "import drawing"
   ]
  },
  {
   "cell_type": "code",
   "execution_count": 3,
   "metadata": {},
   "outputs": [
    {
     "name": "stdout",
     "output_type": "stream",
     "text": [
      "tic-tac-toe.data  tic-tac-toe.names  tic-tac-toe_X.csv\ttic-tac-toe_y.csv\r\n"
     ]
    }
   ],
   "source": [
    "!ls dataset/"
   ]
  },
  {
   "cell_type": "code",
   "execution_count": 4,
   "metadata": {
    "scrolled": true
   },
   "outputs": [
    {
     "name": "stdout",
     "output_type": "stream",
     "text": [
      "number of instances:958, number of attributes:10\n"
     ]
    }
   ],
   "source": [
    "df = pd.read_csv('dataset/tic-tac-toe.data', header=None)\n",
    "\n",
    "print(f'number of instances:{df.shape[0]}, number of attributes:{df.shape[1]}')"
   ]
  },
  {
   "cell_type": "code",
   "execution_count": 5,
   "metadata": {},
   "outputs": [],
   "source": [
    "df.columns= ['p'+str(i) for i in range(0,df.shape[1]-1)] + ['y']"
   ]
  },
  {
   "cell_type": "code",
   "execution_count": 6,
   "metadata": {},
   "outputs": [
    {
     "data": {
      "text/html": [
       "<div>\n",
       "<style scoped>\n",
       "    .dataframe tbody tr th:only-of-type {\n",
       "        vertical-align: middle;\n",
       "    }\n",
       "\n",
       "    .dataframe tbody tr th {\n",
       "        vertical-align: top;\n",
       "    }\n",
       "\n",
       "    .dataframe thead th {\n",
       "        text-align: right;\n",
       "    }\n",
       "</style>\n",
       "<table border=\"1\" class=\"dataframe\">\n",
       "  <thead>\n",
       "    <tr style=\"text-align: right;\">\n",
       "      <th></th>\n",
       "      <th>p0</th>\n",
       "      <th>p1</th>\n",
       "      <th>p2</th>\n",
       "      <th>p3</th>\n",
       "      <th>p4</th>\n",
       "      <th>p5</th>\n",
       "      <th>p6</th>\n",
       "      <th>p7</th>\n",
       "      <th>p8</th>\n",
       "      <th>y</th>\n",
       "    </tr>\n",
       "  </thead>\n",
       "  <tbody>\n",
       "    <tr>\n",
       "      <th>0</th>\n",
       "      <td>x</td>\n",
       "      <td>x</td>\n",
       "      <td>x</td>\n",
       "      <td>x</td>\n",
       "      <td>o</td>\n",
       "      <td>o</td>\n",
       "      <td>x</td>\n",
       "      <td>o</td>\n",
       "      <td>o</td>\n",
       "      <td>positive</td>\n",
       "    </tr>\n",
       "    <tr>\n",
       "      <th>1</th>\n",
       "      <td>x</td>\n",
       "      <td>x</td>\n",
       "      <td>x</td>\n",
       "      <td>x</td>\n",
       "      <td>o</td>\n",
       "      <td>o</td>\n",
       "      <td>o</td>\n",
       "      <td>x</td>\n",
       "      <td>o</td>\n",
       "      <td>positive</td>\n",
       "    </tr>\n",
       "    <tr>\n",
       "      <th>2</th>\n",
       "      <td>x</td>\n",
       "      <td>x</td>\n",
       "      <td>x</td>\n",
       "      <td>x</td>\n",
       "      <td>o</td>\n",
       "      <td>o</td>\n",
       "      <td>o</td>\n",
       "      <td>o</td>\n",
       "      <td>x</td>\n",
       "      <td>positive</td>\n",
       "    </tr>\n",
       "    <tr>\n",
       "      <th>3</th>\n",
       "      <td>x</td>\n",
       "      <td>x</td>\n",
       "      <td>x</td>\n",
       "      <td>x</td>\n",
       "      <td>o</td>\n",
       "      <td>o</td>\n",
       "      <td>o</td>\n",
       "      <td>b</td>\n",
       "      <td>b</td>\n",
       "      <td>positive</td>\n",
       "    </tr>\n",
       "    <tr>\n",
       "      <th>4</th>\n",
       "      <td>x</td>\n",
       "      <td>x</td>\n",
       "      <td>x</td>\n",
       "      <td>x</td>\n",
       "      <td>o</td>\n",
       "      <td>o</td>\n",
       "      <td>b</td>\n",
       "      <td>o</td>\n",
       "      <td>b</td>\n",
       "      <td>positive</td>\n",
       "    </tr>\n",
       "  </tbody>\n",
       "</table>\n",
       "</div>"
      ],
      "text/plain": [
       "  p0 p1 p2 p3 p4 p5 p6 p7 p8         y\n",
       "0  x  x  x  x  o  o  x  o  o  positive\n",
       "1  x  x  x  x  o  o  o  x  o  positive\n",
       "2  x  x  x  x  o  o  o  o  x  positive\n",
       "3  x  x  x  x  o  o  o  b  b  positive\n",
       "4  x  x  x  x  o  o  b  o  b  positive"
      ]
     },
     "execution_count": 6,
     "metadata": {},
     "output_type": "execute_result"
    }
   ],
   "source": [
    "df.head()"
   ]
  },
  {
   "cell_type": "code",
   "execution_count": 7,
   "metadata": {},
   "outputs": [
    {
     "data": {
      "text/html": [
       "<div>\n",
       "<style scoped>\n",
       "    .dataframe tbody tr th:only-of-type {\n",
       "        vertical-align: middle;\n",
       "    }\n",
       "\n",
       "    .dataframe tbody tr th {\n",
       "        vertical-align: top;\n",
       "    }\n",
       "\n",
       "    .dataframe thead th {\n",
       "        text-align: right;\n",
       "    }\n",
       "</style>\n",
       "<table border=\"1\" class=\"dataframe\">\n",
       "  <thead>\n",
       "    <tr style=\"text-align: right;\">\n",
       "      <th></th>\n",
       "      <th>p0</th>\n",
       "      <th>p1</th>\n",
       "      <th>p2</th>\n",
       "      <th>p3</th>\n",
       "      <th>p4</th>\n",
       "      <th>p5</th>\n",
       "      <th>p6</th>\n",
       "      <th>p7</th>\n",
       "      <th>p8</th>\n",
       "      <th>y</th>\n",
       "    </tr>\n",
       "  </thead>\n",
       "  <tbody>\n",
       "    <tr>\n",
       "      <th>count</th>\n",
       "      <td>958</td>\n",
       "      <td>958</td>\n",
       "      <td>958</td>\n",
       "      <td>958</td>\n",
       "      <td>958</td>\n",
       "      <td>958</td>\n",
       "      <td>958</td>\n",
       "      <td>958</td>\n",
       "      <td>958</td>\n",
       "      <td>958</td>\n",
       "    </tr>\n",
       "    <tr>\n",
       "      <th>unique</th>\n",
       "      <td>3</td>\n",
       "      <td>3</td>\n",
       "      <td>3</td>\n",
       "      <td>3</td>\n",
       "      <td>3</td>\n",
       "      <td>3</td>\n",
       "      <td>3</td>\n",
       "      <td>3</td>\n",
       "      <td>3</td>\n",
       "      <td>2</td>\n",
       "    </tr>\n",
       "    <tr>\n",
       "      <th>top</th>\n",
       "      <td>x</td>\n",
       "      <td>x</td>\n",
       "      <td>x</td>\n",
       "      <td>x</td>\n",
       "      <td>x</td>\n",
       "      <td>x</td>\n",
       "      <td>x</td>\n",
       "      <td>x</td>\n",
       "      <td>x</td>\n",
       "      <td>positive</td>\n",
       "    </tr>\n",
       "    <tr>\n",
       "      <th>freq</th>\n",
       "      <td>418</td>\n",
       "      <td>378</td>\n",
       "      <td>418</td>\n",
       "      <td>378</td>\n",
       "      <td>458</td>\n",
       "      <td>378</td>\n",
       "      <td>418</td>\n",
       "      <td>378</td>\n",
       "      <td>418</td>\n",
       "      <td>626</td>\n",
       "    </tr>\n",
       "  </tbody>\n",
       "</table>\n",
       "</div>"
      ],
      "text/plain": [
       "         p0   p1   p2   p3   p4   p5   p6   p7   p8         y\n",
       "count   958  958  958  958  958  958  958  958  958       958\n",
       "unique    3    3    3    3    3    3    3    3    3         2\n",
       "top       x    x    x    x    x    x    x    x    x  positive\n",
       "freq    418  378  418  378  458  378  418  378  418       626"
      ]
     },
     "execution_count": 7,
     "metadata": {},
     "output_type": "execute_result"
    }
   ],
   "source": [
    "df.describe()"
   ]
  },
  {
   "cell_type": "markdown",
   "metadata": {},
   "source": [
    "El dataset expone por cada tupla el contenido de las 9 posiciones del tablero de tres en raya, donde juegan dos jugadores denotados por *x* y *o*, así como la resolución de la partida, denotada con la cadena *positive* si ha ganado *x* o *negative* si ha ganado *o*. Por lo tanto, tenemos dos posibles etiquetas.\n",
    "\n",
    "Leyendo el fichero _tic-tact-toe.names_ podemos conocer brevemente cómo se exponen los valores de las variables del dataset, concluyendo que en cada posición del tablero encontraremos una de tres opciones:\n",
    "\n",
    "   > (x=player x has taken, o=player o has taken, b=blank)\n",
    "    \n",
    "Además, es relevante remarcar que se asume que el jugador *x* juega primero."
   ]
  },
  {
   "cell_type": "markdown",
   "metadata": {},
   "source": [
    "    "
   ]
  },
  {
   "cell_type": "markdown",
   "metadata": {},
   "source": [
    "Cargamos los datos contenidos en el Dataframe *df* en arrays de Numpy para facilitar la manipulación de los datos en el código externo a este notebook."
   ]
  },
  {
   "cell_type": "code",
   "execution_count": 8,
   "metadata": {},
   "outputs": [],
   "source": [
    "feature_cols = df.columns[:-1]\n",
    "label_cols = df.columns[-1]"
   ]
  },
  {
   "cell_type": "code",
   "execution_count": 9,
   "metadata": {},
   "outputs": [
    {
     "name": "stdout",
     "output_type": "stream",
     "text": [
      "X.shape(958, 9), y.shape(958,)\n"
     ]
    }
   ],
   "source": [
    "X = np.asarray(df.loc[:, feature_cols])\n",
    "y = np.asarray(df.loc[:, label_cols].ravel())\n",
    "print(f'X.shape{X.shape}, y.shape{y.shape}')"
   ]
  },
  {
   "cell_type": "code",
   "execution_count": 10,
   "metadata": {},
   "outputs": [],
   "source": [
    "num_features = len(X[0])\n",
    "num_labels = 2"
   ]
  },
  {
   "cell_type": "markdown",
   "metadata": {},
   "source": [
    "Para reconocer mejor cómo se comportan los datos de *X* con respecto a sus etiquetas, *y*, dibujamos varios ejemplos en un tablero del juego *Tic tac toe*.\n",
    "\n",
    "De esta forma, podemos conocer cómo se estructuran las variables características sobre el tablero y su relación con *y*, comprendiendo así mejor la naturaleza del problema."
   ]
  },
  {
   "cell_type": "code",
   "execution_count": 11,
   "metadata": {},
   "outputs": [
    {
     "data": {
      "image/png": "[encoded data removed]",
      "text/plain": [
       "<Figure size 90x126 with 1 Axes>"
      ]
     },
     "metadata": {},
     "output_type": "display_data"
    }
   ],
   "source": [
    "drawing.draw_end_game(X[0], y[0], categorical=True)"
   ]
  },
  {
   "cell_type": "code",
   "execution_count": 12,
   "metadata": {},
   "outputs": [
    {
     "data": {
      "image/png": "[encoded data removed]",
      "text/plain": [
       "<Figure size 90x126 with 1 Axes>"
      ]
     },
     "metadata": {},
     "output_type": "display_data"
    }
   ],
   "source": [
    "drawing.draw_end_game(X[500], y[500], categorical=True)"
   ]
  },
  {
   "cell_type": "code",
   "execution_count": 13,
   "metadata": {},
   "outputs": [
    {
     "data": {
      "image/png": "[encoded data removed]",
      "text/plain": [
       "<Figure size 90x126 with 1 Axes>"
      ]
     },
     "metadata": {},
     "output_type": "display_data"
    }
   ],
   "source": [
    "drawing.draw_end_game(X[210], y[210], categorical=True)"
   ]
  },
  {
   "cell_type": "markdown",
   "metadata": {},
   "source": [
    "Observando estos ejemplos comprendemos que, efectivamente, al situarse en el tablero 3 fichas 'x' consecutivas en fila, columna o diagonal, se considera como ganador al jugador 'x'. En caso contrario, podemos afirmar que el ganador será 'o', ya que si el juego no llega a su fin por la victoria de 'x', llega a su fin por la victoria de 'o', no hay posibles empates. Este hecho encaja completamente con la naturaleza de las etiquetas *y*, ya que designan si ganó 'x' u 'o', no deja la posibilidad a empate."
   ]
  },
  {
   "cell_type": "markdown",
   "metadata": {},
   "source": [
    "Anticipando el análisis que llevaremos a cabo posteriormente, podemos preveer que no hay correlación entre los datos de X. Es decir, una configuración final de una partida de Tic-Tac-Toe y su resultado no guardan relación con otras configuraciones y otros resultados. De esta forma, analizando la distribución de los datos, es posible creer que construir correlaciones entre posiciones del tablero y los resultados finales (variables características y sus consecuentes etiquetas) es muy complejo por los medios que hemos estudiado en la asignatura. \n",
    "\n",
    "Los métodos utilizados a lo largo del curso para realizar predicción de clases han sido regresión logística, redes neuronales y support vector machines. De este conjunto de metodologías, las dos primeras construyen a lo largo del entrenamiento de sus modelos rectas o planos de decisión en base a la categorización de ejemplos vistos previamente. \n",
    "\n",
    "Este planteamiento colisiona, por la algoritmia utilizada hasta ahora, con la distribución de nuestros datos, ya que las variables características expresan presencia u ausencia de un jugador u otro en posiciones del tablero, las cuales no tienen una semántica relevante en el problema. Es decir, la existencia de una pieza del jugador 'x' en la posición 1,1 puede ser igual de relevante o irrelevante que si la pieza estuviera en la posicion 3,3, por ejemplo, a la hora de ganar una partida. No hay ninguna posición en el tablero que otorge una ventaja, todas las posiciones son igualmente accesibles en cualquier momento de la partida y por cualquier jugador. Esto ocurre al contrario en otros juegos de tablero como, por ejemplo, el ajedrez, juego en el cual posicionar una pieza en una posición concreta del tablero implica haber realizado cierto número de movimientos hasta llevar a la pieza a esa posición. Además, en el ajedrez, la funcionalidad (movimiento) de cada pieza puede verse afectada por su posición. Una torre situada en una esquina solo podrá ejecutar la mitad de sus posibles movimientos. \n",
    "\n",
    "En el caso del Tic-Tac-Toe, ninguna de estas implicaciones por la distribución de las piezas puede ser llevada a cabo, por lo tanto, preveemos que los modelos de regresión logística y red neuronal no serán capaces de adaptarse a los datos, no podrán construir una conclusión de los datos.\n",
    "\n",
    "En cambio, los modelos support vector machine son mucho más sofisticados y complejos que regresión logística y red neuronal, por lo tanto, creemos que podrían responder mejor a la distribución de nuestros datos."
   ]
  },
  {
   "cell_type": "markdown",
   "metadata": {},
   "source": [
    "# Preprocesamiento"
   ]
  },
  {
   "cell_type": "markdown",
   "metadata": {},
   "source": [
    "Para facilitar la manipulación de los datos tanto de *X* como de *y*, vamos a convertir el contenido de ambos arrays de datos categóricos a datos númericos.\n",
    "\n",
    "Para ello, vamos a realizar el siguiente mapeo:\n",
    "\n",
    "- **y** : lo mapearemos correspondientemente dos veces, inicialmente pasará a ser 'x'(positive) u 'o'(negative), después lo convertiremos a '1'(x) o '0'(o). Es decir, guardaremos de *y* sus datos categóricos y sus datos numéricos, permitiendo así posteriores análisis más cómodos.\n",
    "- **X** : ya que los datos iniciales ya contenían 'x' u 'o', solo realizaremos la conversión a '1'(x) o '0'(o). Mantendremos ambas versiones de *X*, al igual que hacíamos con *y*.\n",
    "\n",
    "Consideraremos de ahora en adelante: 0-->'o', 1-->'x', 2-->'b', tanto para *X* como para *y*, aunque *y* no tenga la etiqueta 'b'."
   ]
  },
  {
   "cell_type": "markdown",
   "metadata": {},
   "source": [
    "Para este proceso, definiremos dos funciones que nos ayudarán en las conversiones:"
   ]
  },
  {
   "cell_type": "code",
   "execution_count": 14,
   "metadata": {},
   "outputs": [],
   "source": [
    "convert_to_nums = lambda x : 1 if x == 'x' else (0 if x == 'o' else 2)\n",
    "convert_to_nums = np.vectorize(convert_to_nums)\n",
    "\n",
    "convert_to_cats = lambda x : 'x' if x == 1 else ('o' if x == 0 else 'b')\n",
    "convert_to_cats = np.vectorize(convert_to_cats)"
   ]
  },
  {
   "cell_type": "code",
   "execution_count": 15,
   "metadata": {},
   "outputs": [],
   "source": [
    "X_cat = X # inicialmente X ya esta en version categorica"
   ]
  },
  {
   "cell_type": "code",
   "execution_count": 16,
   "metadata": {
    "scrolled": true
   },
   "outputs": [
    {
     "name": "stdout",
     "output_type": "stream",
     "text": [
      "[1 1 1 1 0 0 1 0 0] X.shape:(958, 9)\n"
     ]
    }
   ],
   "source": [
    "X = convert_to_nums(X_cat)\n",
    "print(X[0], f'X.shape:{X.shape}')"
   ]
  },
  {
   "cell_type": "markdown",
   "metadata": {},
   "source": [
    "Una vez convertida cada variable categórica en una variable numérica, producimos tres variables numéricas _dummy_ por cada variable numérica actual.\n",
    "\n",
    "Cada posición del tablero quedará designada por tres variables numéricas que expongan los siguientes escenarios, según lo que se encuentre en el ejemplo en la posición concreta del tablero:\n",
    "- [1,0,0] es 'o'\n",
    "- [0,1,0] es 'x'\n",
    "- [0,0,1] es 'b'"
   ]
  },
  {
   "cell_type": "code",
   "execution_count": 17,
   "metadata": {
    "scrolled": true
   },
   "outputs": [],
   "source": [
    "onehotencoder = OneHotEncoder(categorical_features = [0,1,2,3,4,5,6,7,8])\n",
    "X = onehotencoder.fit_transform(X).toarray()"
   ]
  },
  {
   "cell_type": "code",
   "execution_count": 18,
   "metadata": {},
   "outputs": [
    {
     "name": "stdout",
     "output_type": "stream",
     "text": [
      "[0. 0. 1. 0. 1. 0. 1. 0. 0. 0. 1. 0. 0. 1. 0. 0. 0. 1. 1. 0. 0. 0. 1. 0.\n",
      " 1. 0. 0.] X.shape:(958, 27)\n"
     ]
    }
   ],
   "source": [
    "print(X[500], f'X.shape:{X.shape}')"
   ]
  },
  {
   "cell_type": "markdown",
   "metadata": {},
   "source": [
    "A continuación, eliminamos todas las terceras columnas ya que es información redudante. Con solo 2 columnas por posición del tablero podemos representar las tres posibilidades de la siguiente forma: \n",
    "- x:'10' \n",
    "- o:'00'\n",
    "- b:'01'\n",
    "\n",
    "Por lo tanto, utilizamos dos columnas como si fueran dos bits, representando las posibilidades de cada posición en base a combinaciones de bits.\n",
    "\n",
    "De esta forma, reducimos las dimensiones del dataset y, además, evitamos el fenómeno conocido como _dummy variable trap_. Las variables _dummy_ son las variables que hemos construido hasta ahora para resolver el problema, son variables que toman un valor 1 o 0 denotando la presencia o ausencia de una característica o categoría. En este caso, el escenario _dummy variable trap_ se encuentra y entiende por la correlación múltiple entre las variables que utilizamos para designar cada posición del tablero. "
   ]
  },
  {
   "cell_type": "code",
   "execution_count": 19,
   "metadata": {},
   "outputs": [],
   "source": [
    "X = np.delete(X, [0,3,6,9,12,15,18,21,24], axis=1)"
   ]
  },
  {
   "cell_type": "code",
   "execution_count": 20,
   "metadata": {
    "scrolled": true
   },
   "outputs": [
    {
     "name": "stdout",
     "output_type": "stream",
     "text": [
      "[0. 1. 1. 0. 0. 0. 1. 0. 1. 0. 0. 1. 0. 0. 1. 0. 0. 0.] X.shape:(958, 18)\n"
     ]
    }
   ],
   "source": [
    "print(X[500], f'X.shape:{X.shape}')"
   ]
  },
  {
   "cell_type": "markdown",
   "metadata": {},
   "source": [
    "Si interpretramos la transformación por el ejemplo *X[0]* podremos ver que es correcta al comparar el resultado con el tablero dibujado previamente sobre el mismo ejemplo. Actualizamos *num_features* para que se mantenga coherente."
   ]
  },
  {
   "cell_type": "code",
   "execution_count": 21,
   "metadata": {},
   "outputs": [],
   "source": [
    "num_features = len(X[0])"
   ]
  },
  {
   "cell_type": "markdown",
   "metadata": {},
   "source": [
    "Realizamos un proceso muy similar con *y* en la conversión a _target_ numérico, a excepción de una interpretación previa en base al etiquetado 'positive' o 'negative. Esta interpretación solo la haremos una vez, por ello no guardamos la función que lo implementa. \n",
    "\n",
    "El valor de *y* 1 denota que la tupla de datos correspondiente pertenece a la clase \"ha ganado x\" mientras que su valor 0 denota que pertenece a la clase \"no ha ganado X\", lo cual es equivalente a \"ha ganado o\" ya que debe haber ganado uno de los dos jugadores, no hay posibilidad de empate."
   ]
  },
  {
   "cell_type": "code",
   "execution_count": 22,
   "metadata": {},
   "outputs": [],
   "source": [
    "y_cat = np.vectorize(lambda x: 'x' if x == 'positive' else 'o')(y)"
   ]
  },
  {
   "cell_type": "code",
   "execution_count": 23,
   "metadata": {
    "scrolled": false
   },
   "outputs": [
    {
     "name": "stdout",
     "output_type": "stream",
     "text": [
      "1 y.shape:(958,)\n"
     ]
    }
   ],
   "source": [
    "y = convert_to_nums(y_cat)\n",
    "print(y[0], f'y.shape:{y.shape}')"
   ]
  },
  {
   "cell_type": "markdown",
   "metadata": {},
   "source": [
    "A continuación, probaremos diferentes tipos de modelos de predicción binaria para posteriormente realizar una comparación y conocer qué metodología de machine learning y con qué configuración ofrece mejores resultados para nuestro problema."
   ]
  },
  {
   "cell_type": "markdown",
   "metadata": {},
   "source": [
    "La implementación de los modelos basados en regresión logística y red neuronal de una capa oculta se encuentra en los ficheros `/log_reg.py` y `neural_net.py`. Estos ficheros exponen los modelos a través de clases cuyo objetivo es proporcionar al exterior una manipulación similar a la que exponen librerías como *scikit-learn*. El código de estos ficheros ha sido recogido de nuestras soluciones a las prácticas desarrolladas a lo largo del curso, con las modificaciones necesarias aplicadas para ser expuesto a través de clases.\n",
    "\n",
    "Además, basándose en la teoría vista en clase y en la red neuronal de una capa oculta implementada en la práctica 4, el fichero `/multilayer_neural_net.py` implementa una red neuronal de n capas ocultas en una clase, similar a los modelos comentados previamente. Hemos decidido utilizar aun así en este notebook solamente la red neuronal de una capa oculta.\n",
    "\n",
    "Creemos que encapsular los modelos en clases de esta forma facilita la manipulación de los mismos y permite una lectura de este documento más clara y sencilla. Por ello, no accederemos a métodos privados de las clases, utilizaremos accesos como `fit()`, `predict()`, etc, como si estuviéramos tratando con un modelo implementado en una librería."
   ]
  },
  {
   "cell_type": "markdown",
   "metadata": {},
   "source": [
    "    "
   ]
  },
  {
   "cell_type": "markdown",
   "metadata": {},
   "source": [
    "Guardamos X e y en local para ahorrar el cómputo utilizado en el preprocesamiento para futuras cargas del notebook."
   ]
  },
  {
   "cell_type": "code",
   "execution_count": 23,
   "metadata": {},
   "outputs": [],
   "source": [
    "np.savetxt(\"dataset/tic-tac-toe_X.csv\", X, delimiter=\",\")\n",
    "np.savetxt(\"dataset/tic-tac-toe_y.csv\", y, delimiter=\",\")"
   ]
  },
  {
   "cell_type": "markdown",
   "metadata": {},
   "source": [
    "Dividimos nuestro conjunto de datos en el 60% para dedicarlos al entrenamiento de los modelos, en el 20% para dedicarlos a validación y en el 20% para dedicarlos a la evaluación de nuestros modelos. De esta forma, podemos conocer cómo responden nuestros modelos con datos nuevos, diferentes a los utilizados en el entrenamiento. La selección de qué datos pertenecerán a qué conjunto se realiza al azar con un *seed=42*."
   ]
  },
  {
   "cell_type": "code",
   "execution_count": 24,
   "metadata": {},
   "outputs": [],
   "source": [
    "X_train, X_test, y_train, y_test = train_test_split(X, y,\n",
    "                                                    test_size=0.2, random_state=42)\n",
    "X_train, X_val, y_train, y_val = train_test_split(X_train,\n",
    "                                                  y_train, test_size=0.25, random_state=42)"
   ]
  },
  {
   "cell_type": "code",
   "execution_count": 26,
   "metadata": {},
   "outputs": [
    {
     "name": "stdout",
     "output_type": "stream",
     "text": [
      "X_train.shape:(574, 18),X_val.shape:(192, 18),X_test.shape:(192, 18)\n"
     ]
    }
   ],
   "source": [
    "print(f'X_train.shape:{X_train.shape},X_val.shape:{X_val.shape},X_test.shape:{X_test.shape}')"
   ]
  },
  {
   "cell_type": "markdown",
   "metadata": {},
   "source": [
    "# Regresión logística"
   ]
  },
  {
   "cell_type": "markdown",
   "metadata": {},
   "source": [
    "Inicialmente probaremos con regresión logística sin regularización. Por lo tanto, en el constructor del modelo definimos `reg_term=0`."
   ]
  },
  {
   "cell_type": "code",
   "execution_count": 27,
   "metadata": {},
   "outputs": [],
   "source": [
    "logreg = LogReg(num_features=num_features,\n",
    "                num_labels=num_labels,reg_term=0)"
   ]
  },
  {
   "cell_type": "code",
   "execution_count": 28,
   "metadata": {},
   "outputs": [
    {
     "name": "stdout",
     "output_type": "stream",
     "text": [
      "[50, 1]\n"
     ]
    }
   ],
   "source": [
    "logreg.fit(X=X_train, y=y_train)"
   ]
  },
  {
   "cell_type": "code",
   "execution_count": 29,
   "metadata": {},
   "outputs": [],
   "source": [
    "y_pred = logreg.predict(X=X_test)"
   ]
  },
  {
   "cell_type": "code",
   "execution_count": 30,
   "metadata": {
    "scrolled": true
   },
   "outputs": [
    {
     "name": "stdout",
     "output_type": "stream",
     "text": [
      "logreg accuracy:65.10416666666666%\n"
     ]
    }
   ],
   "source": [
    "print(f'logreg accuracy:{logreg.accuracy_score(y_test,y_pred)}%')"
   ]
  },
  {
   "cell_type": "markdown",
   "metadata": {},
   "source": [
    "Como preveíamos anteriormente, el modelo de regresión logística no es capaz de obtener una conclusión de los datos de entrenamiento. A continuación construiremos y entrenaremos otro modelo utilizando regularización."
   ]
  },
  {
   "cell_type": "code",
   "execution_count": 31,
   "metadata": {},
   "outputs": [],
   "source": [
    "logreg = LogReg(num_features=num_features,\n",
    "                num_labels=num_labels,reg_term=1.5)"
   ]
  },
  {
   "cell_type": "code",
   "execution_count": 32,
   "metadata": {},
   "outputs": [
    {
     "name": "stdout",
     "output_type": "stream",
     "text": [
      "[50, 1]\n"
     ]
    }
   ],
   "source": [
    "logreg.fit(X=X_train, y=y_train)"
   ]
  },
  {
   "cell_type": "code",
   "execution_count": 33,
   "metadata": {},
   "outputs": [],
   "source": [
    "y_pred = logreg.predict(X=X_test)"
   ]
  },
  {
   "cell_type": "code",
   "execution_count": 34,
   "metadata": {
    "scrolled": false
   },
   "outputs": [
    {
     "name": "stdout",
     "output_type": "stream",
     "text": [
      "logreg accuracy:65.10416666666666%\n"
     ]
    }
   ],
   "source": [
    "print(f'logreg accuracy:{logreg.accuracy_score(y_test,y_pred)}%')"
   ]
  },
  {
   "cell_type": "code",
   "execution_count": 35,
   "metadata": {
    "scrolled": false
   },
   "outputs": [
    {
     "name": "stdout",
     "output_type": "stream",
     "text": [
      "[1 1 1 1 1 1 1 1 1 1 1 1 1 1 1 1 1 1 1 1 1 1 1 1 1 1 1 1 1 1 1 1 1 1 1 1 1\n",
      " 1 1 1 1 1 1 1 1 1 1 1 1 1 1 1 1 1 1 1 1 1 1 1 1 1 1 1 1 1 1 1 1 1 1 1 1 1\n",
      " 1 1 1 1 1 1 1 1 1 1 1 1 1 1 1 1 1 1 1 1 1 1 1 1 1 1 1 1 1 1 1 1 1 1 1 1 1\n",
      " 1 1 1 1 1 1 1 1 1 1 1 1 1 1 1 1 1 1 1 1 1 1 1 1 1 1 1 1 1 1 1 1 1 1 1 1 1\n",
      " 1 1 1 1 1 1 1 1 1 1 1 1 1 1 1 1 1 1 1 1 1 1 1 1 1 1 1 1 1 1 1 1 1 1 1 1 1\n",
      " 1 1 1 1 1 1 1]\n"
     ]
    }
   ],
   "source": [
    "print(y_pred)"
   ]
  },
  {
   "cell_type": "markdown",
   "metadata": {},
   "source": [
    "Observando las etiquetas que ha predecido el modelo sobre datos nuevos podemos comprobar que siempre predice la misma clase. En este caso, siempre predice la clase 1, es decir, que gana el jugador 'x'. Por lo tanto, el 65.104% de acierto del modelo se debe a que el conjunto de datos contiene ese porcentaje de partidas etiquetadas por la clase 1."
   ]
  },
  {
   "cell_type": "markdown",
   "metadata": {},
   "source": [
    "Agregar términos polinómicos al conjunto de datos no debe ser solución la problemática que encuentra la regresión logística con los datos debido a la representación de las variables características a través de *one-hot encoding*. Aun así, probamos con un grado 4."
   ]
  },
  {
   "cell_type": "code",
   "execution_count": 43,
   "metadata": {
    "scrolled": false
   },
   "outputs": [
    {
     "name": "stdout",
     "output_type": "stream",
     "text": [
      "X_train_poly.shape:(574, 7315)\n"
     ]
    }
   ],
   "source": [
    "poly = PolynomialFeatures(4)\n",
    "X_train_poly = poly.fit_transform(X_train)\n",
    "X_test_poly = poly.fit_transform(X_test)\n",
    "num_features_poly = len(X_train_poly[0])\n",
    "print(f'X_train_poly.shape:{X_train_poly.shape}')"
   ]
  },
  {
   "cell_type": "code",
   "execution_count": 40,
   "metadata": {},
   "outputs": [],
   "source": [
    "logreg = LogReg(num_features=num_features_poly,\n",
    "                num_labels=num_labels,reg_term=1.5)"
   ]
  },
  {
   "cell_type": "code",
   "execution_count": 41,
   "metadata": {},
   "outputs": [
    {
     "name": "stdout",
     "output_type": "stream",
     "text": [
      "[54, 1]\n"
     ]
    }
   ],
   "source": [
    "logreg.fit(X=X_train_poly, y=y_train)"
   ]
  },
  {
   "cell_type": "code",
   "execution_count": 45,
   "metadata": {},
   "outputs": [],
   "source": [
    "y_pred = logreg.predict(X=X_test_poly)"
   ]
  },
  {
   "cell_type": "code",
   "execution_count": 46,
   "metadata": {
    "scrolled": true
   },
   "outputs": [
    {
     "name": "stdout",
     "output_type": "stream",
     "text": [
      "logreg accuracy:65.10416666666666%\n"
     ]
    }
   ],
   "source": [
    "print(f'logreg accuracy:{logreg.accuracy_score(y_test,y_pred)}%')"
   ]
  },
  {
   "cell_type": "markdown",
   "metadata": {},
   "source": [
    "El resultado es el mismo que hemos obtenido previamente.\n",
    "\n",
    "A continuación, probaremos la regresión logística implementada por la librería *sklearn*."
   ]
  },
  {
   "cell_type": "code",
   "execution_count": 145,
   "metadata": {},
   "outputs": [],
   "source": [
    "logreg = LogisticRegression(random_state=0)"
   ]
  },
  {
   "cell_type": "code",
   "execution_count": 146,
   "metadata": {},
   "outputs": [
    {
     "data": {
      "text/plain": [
       "LogisticRegression(C=1.0, class_weight=None, dual=False, fit_intercept=True,\n",
       "          intercept_scaling=1, max_iter=100, multi_class='ovr', n_jobs=1,\n",
       "          penalty='l2', random_state=0, solver='liblinear', tol=0.0001,\n",
       "          verbose=0, warm_start=False)"
      ]
     },
     "execution_count": 146,
     "metadata": {},
     "output_type": "execute_result"
    }
   ],
   "source": [
    "logreg.fit(X=X_train, y=y_train)"
   ]
  },
  {
   "cell_type": "code",
   "execution_count": 147,
   "metadata": {
    "scrolled": true
   },
   "outputs": [
    {
     "name": "stdout",
     "output_type": "stream",
     "text": [
      "logreg accuracy:78.64583333333334%\n"
     ]
    }
   ],
   "source": [
    "print(f'logreg accuracy:{logreg.score(X_test, y_test)*100}%')"
   ]
  },
  {
   "cell_type": "markdown",
   "metadata": {},
   "source": [
    "Observamos que esta vez, utilizando este modelo, sin ninguna hiper parametrización, el resultado es correcto, a pesar de ser muy bajo. Esto se debe a que la librería *sklearn* utiliza otros algoritmos de optimización más sofisticados que le permiten al modelo adaptarse mejor a la naturaleza del problema. En concreto, por default, el modelo utilizará *liblinear*, el cual funciona correctamente en conjuntos de datos pequeños.\n",
    "\n",
    "Con el objetivo de mejorar el resultado obtenido y teniendo en mente que *sklearn* nos permite elegir el algoritmo de optimización a utilizar, probaremos dos posibilidades más."
   ]
  },
  {
   "cell_type": "markdown",
   "metadata": {},
   "source": [
    "Primero, probaremos utilizando el algoritmo *newton-cg*:"
   ]
  },
  {
   "cell_type": "code",
   "execution_count": 133,
   "metadata": {},
   "outputs": [],
   "source": [
    "logreg = LogisticRegression(random_state=0,\n",
    "                            solver='newton-cg', multi_class='multinomial')"
   ]
  },
  {
   "cell_type": "code",
   "execution_count": 134,
   "metadata": {},
   "outputs": [
    {
     "data": {
      "text/plain": [
       "LogisticRegression(C=1.0, class_weight=None, dual=False, fit_intercept=True,\n",
       "          intercept_scaling=1, max_iter=100, multi_class='multinomial',\n",
       "          n_jobs=1, penalty='l2', random_state=0, solver='newton-cg',\n",
       "          tol=0.0001, verbose=0, warm_start=False)"
      ]
     },
     "execution_count": 134,
     "metadata": {},
     "output_type": "execute_result"
    }
   ],
   "source": [
    "logreg.fit(X=X_train, y=y_train)"
   ]
  },
  {
   "cell_type": "code",
   "execution_count": 135,
   "metadata": {},
   "outputs": [
    {
     "name": "stdout",
     "output_type": "stream",
     "text": [
      "logreg accuracy:94.79166666666666%\n"
     ]
    }
   ],
   "source": [
    "print(f'logreg accuracy:{logreg.score(X_test, y_test)*100}%')"
   ]
  },
  {
   "cell_type": "markdown",
   "metadata": {},
   "source": [
    "Para el mismo algoritmo de optimización, probaremos a cambiar el parámetro *C*, cuyo valor por default es 1."
   ]
  },
  {
   "cell_type": "code",
   "execution_count": 136,
   "metadata": {},
   "outputs": [],
   "source": [
    "logreg = LogisticRegression(random_state=0,\n",
    "                            solver='newton-cg', multi_class='multinomial', C=1.5)"
   ]
  },
  {
   "cell_type": "code",
   "execution_count": 137,
   "metadata": {},
   "outputs": [
    {
     "data": {
      "text/plain": [
       "LogisticRegression(C=1.5, class_weight=None, dual=False, fit_intercept=True,\n",
       "          intercept_scaling=1, max_iter=100, multi_class='multinomial',\n",
       "          n_jobs=1, penalty='l2', random_state=0, solver='newton-cg',\n",
       "          tol=0.0001, verbose=0, warm_start=False)"
      ]
     },
     "execution_count": 137,
     "metadata": {},
     "output_type": "execute_result"
    }
   ],
   "source": [
    "logreg.fit(X=X_train, y=y_train)"
   ]
  },
  {
   "cell_type": "code",
   "execution_count": 138,
   "metadata": {},
   "outputs": [
    {
     "name": "stdout",
     "output_type": "stream",
     "text": [
      "logreg accuracy:96.875%\n"
     ]
    }
   ],
   "source": [
    "print(f'logreg accuracy:{logreg.score(X_test, y_test)*100}%')"
   ]
  },
  {
   "cell_type": "markdown",
   "metadata": {},
   "source": [
    "Observamos que el porcentaje de acierto ha subido considerablemente al cambiar el algoritmo de optimización y, en menor medida, también al cambiar el parámetro *C*, el cual denota una menor regularización. Esto quiere decir que hemos reducido el sesgo del modelo, balanceándolo."
   ]
  },
  {
   "cell_type": "code",
   "execution_count": 139,
   "metadata": {},
   "outputs": [],
   "source": [
    "logreg = LogisticRegression(random_state=0,\n",
    "                            solver='newton-cg', multi_class='multinomial', C=2.0)"
   ]
  },
  {
   "cell_type": "code",
   "execution_count": 140,
   "metadata": {},
   "outputs": [
    {
     "data": {
      "text/plain": [
       "LogisticRegression(C=2.0, class_weight=None, dual=False, fit_intercept=True,\n",
       "          intercept_scaling=1, max_iter=100, multi_class='multinomial',\n",
       "          n_jobs=1, penalty='l2', random_state=0, solver='newton-cg',\n",
       "          tol=0.0001, verbose=0, warm_start=False)"
      ]
     },
     "execution_count": 140,
     "metadata": {},
     "output_type": "execute_result"
    }
   ],
   "source": [
    "logreg.fit(X=X_train, y=y_train)"
   ]
  },
  {
   "cell_type": "code",
   "execution_count": 141,
   "metadata": {
    "scrolled": true
   },
   "outputs": [
    {
     "name": "stdout",
     "output_type": "stream",
     "text": [
      "logreg accuracy:96.875%\n"
     ]
    }
   ],
   "source": [
    "print(f'logreg accuracy:{logreg.score(X_test, y_test)*100}%')"
   ]
  },
  {
   "cell_type": "markdown",
   "metadata": {},
   "source": [
    "Aumentando el parámetro *C* no conseguimos mejores resultados,por lo tanto, pasamos a comprobar qué resultados nos da el siguiente algoritmo de optimización, *lbfgs*."
   ]
  },
  {
   "cell_type": "code",
   "execution_count": 142,
   "metadata": {},
   "outputs": [],
   "source": [
    "logreg = LogisticRegression(random_state=0,\n",
    "                            solver='lbfgs', multi_class='multinomial', C=2.0)"
   ]
  },
  {
   "cell_type": "code",
   "execution_count": 143,
   "metadata": {},
   "outputs": [
    {
     "data": {
      "text/plain": [
       "LogisticRegression(C=2.0, class_weight=None, dual=False, fit_intercept=True,\n",
       "          intercept_scaling=1, max_iter=100, multi_class='multinomial',\n",
       "          n_jobs=1, penalty='l2', random_state=0, solver='lbfgs',\n",
       "          tol=0.0001, verbose=0, warm_start=False)"
      ]
     },
     "execution_count": 143,
     "metadata": {},
     "output_type": "execute_result"
    }
   ],
   "source": [
    "logreg.fit(X=X_train, y=y_train)"
   ]
  },
  {
   "cell_type": "code",
   "execution_count": 144,
   "metadata": {
    "scrolled": true
   },
   "outputs": [
    {
     "name": "stdout",
     "output_type": "stream",
     "text": [
      "logreg accuracy:96.875%\n"
     ]
    }
   ],
   "source": [
    "print(f'logreg accuracy:{logreg.score(X_test, y_test)*100}%')"
   ]
  },
  {
   "cell_type": "markdown",
   "metadata": {},
   "source": [
    "No encontramos mejoría con este algoritmo de optimización.\n",
    "\n",
    "Por lo tanto, avanzamos al siguiente apartado."
   ]
  },
  {
   "cell_type": "markdown",
   "metadata": {},
   "source": [
    "# Red Neuronal"
   ]
  },
  {
   "cell_type": "markdown",
   "metadata": {},
   "source": [
    "En este apartado construiremos, inicialmente, una red neuronal con una capa oculta y probaremos diferentes configuraciones."
   ]
  },
  {
   "cell_type": "code",
   "execution_count": 148,
   "metadata": {},
   "outputs": [],
   "source": [
    "num_hidden_nodes = 9"
   ]
  },
  {
   "cell_type": "code",
   "execution_count": 149,
   "metadata": {},
   "outputs": [],
   "source": [
    "nnet = NeuralNet(num_features=num_features,\n",
    "                 num_hidden_nodes=num_hidden_nodes, num_labels=2, reg_term=0)"
   ]
  },
  {
   "cell_type": "code",
   "execution_count": 150,
   "metadata": {},
   "outputs": [],
   "source": [
    "nnet.fit(X=X_train, y=y_train)"
   ]
  },
  {
   "cell_type": "code",
   "execution_count": 151,
   "metadata": {},
   "outputs": [],
   "source": [
    "y_pred = nnet.predict(X=X_test)"
   ]
  },
  {
   "cell_type": "code",
   "execution_count": 152,
   "metadata": {
    "scrolled": false
   },
   "outputs": [
    {
     "name": "stdout",
     "output_type": "stream",
     "text": [
      "neuralnet accuracy:65.10416666666666%\n"
     ]
    }
   ],
   "source": [
    "print(f'neuralnet accuracy:{nnet.accuracy_score(y_test,y_pred)}%')"
   ]
  },
  {
   "cell_type": "code",
   "execution_count": 153,
   "metadata": {
    "scrolled": true
   },
   "outputs": [
    {
     "name": "stdout",
     "output_type": "stream",
     "text": [
      "[1 1 1 1 1 1 1 1 1 1 1 1 1 1 1 1 1 1 1 1 1 1 1 1 1 1 1 1 1 1 1 1 1 1 1 1 1\n",
      " 1 1 1 1 1 1 1 1 1 1 1 1 1 1 1 1 1 1 1 1 1 1 1 1 1 1 1 1 1 1 1 1 1 1 1 1 1\n",
      " 1 1 1 1 1 1 1 1 1 1 1 1 1 1 1 1 1 1 1 1 1 1 1 1 1 1 1 1 1 1 1 1 1 1 1 1 1\n",
      " 1 1 1 1 1 1 1 1 1 1 1 1 1 1 1 1 1 1 1 1 1 1 1 1 1 1 1 1 1 1 1 1 1 1 1 1 1\n",
      " 1 1 1 1 1 1 1 1 1 1 1 1 1 1 1 1 1 1 1 1 1 1 1 1 1 1 1 1 1 1 1 1 1 1 1 1 1\n",
      " 1 1 1 1 1 1 1]\n"
     ]
    }
   ],
   "source": [
    "print(y_pred) # siempre predice la misma clase"
   ]
  },
  {
   "cell_type": "markdown",
   "metadata": {},
   "source": [
    "El resultado es el mismo que hemos obtenido inicialmente con regresión logística ocurriendo lo mismo que ocurría anteriormente: el modelo siempre predice la misma clase, como podemos comprobar a continuación.\n",
    "\n",
    "Esta causalidad se debe a la implementación algorítmica utilizada tanto en regresión logística como en redes neuronales a lo largo de las prácticas de la asignatura. En las prácticas resueltas en el curso estos algoritmos respondieron como se esperaba de ellos. En cambio, en su uso en la resolución del problema que propone este dataset, no son capaces de construir hipótesis válidas."
   ]
  },
  {
   "cell_type": "markdown",
   "metadata": {},
   "source": [
    "Probamos a construir una red neuronal con más nodos en la capa oculta con el objetivo de otorgarle al modelo la fuerza suficiente para poder adaptarse a los datos. Para compensar la cantidad de nodos creciente, agregamos regularización para evitar *overfitting*."
   ]
  },
  {
   "cell_type": "code",
   "execution_count": 180,
   "metadata": {},
   "outputs": [],
   "source": [
    "num_hidden_nodes = 27"
   ]
  },
  {
   "cell_type": "code",
   "execution_count": 181,
   "metadata": {},
   "outputs": [],
   "source": [
    "nnet = NeuralNet(num_features=num_features,\n",
    "                 num_hidden_nodes=num_hidden_nodes, num_labels=2, reg_term=0.5)"
   ]
  },
  {
   "cell_type": "code",
   "execution_count": 182,
   "metadata": {},
   "outputs": [],
   "source": [
    "nnet.fit(X=X_train, y=y_train)"
   ]
  },
  {
   "cell_type": "code",
   "execution_count": 183,
   "metadata": {},
   "outputs": [],
   "source": [
    "y_pred = nnet.predict(X=X_test)"
   ]
  },
  {
   "cell_type": "code",
   "execution_count": 184,
   "metadata": {
    "scrolled": false
   },
   "outputs": [
    {
     "name": "stdout",
     "output_type": "stream",
     "text": [
      "neuralnet accuracy:34.89583333333333%\n"
     ]
    }
   ],
   "source": [
    "print(f'neuralnet accuracy:{nnet.accuracy_score(y_test,y_pred)}%')"
   ]
  },
  {
   "cell_type": "code",
   "execution_count": 185,
   "metadata": {},
   "outputs": [],
   "source": [
    "num_hidden_nodes = 36"
   ]
  },
  {
   "cell_type": "code",
   "execution_count": 186,
   "metadata": {},
   "outputs": [],
   "source": [
    "nnet = NeuralNet(num_features=num_features,\n",
    "                 num_hidden_nodes=num_hidden_nodes, num_labels=2, reg_term=1.2)"
   ]
  },
  {
   "cell_type": "code",
   "execution_count": 187,
   "metadata": {},
   "outputs": [],
   "source": [
    "nnet.fit(X=X_train, y=y_train)"
   ]
  },
  {
   "cell_type": "code",
   "execution_count": 188,
   "metadata": {},
   "outputs": [],
   "source": [
    "y_pred = nnet.predict(X=X_test)"
   ]
  },
  {
   "cell_type": "code",
   "execution_count": 189,
   "metadata": {
    "scrolled": true
   },
   "outputs": [
    {
     "name": "stdout",
     "output_type": "stream",
     "text": [
      "neuralnet accuracy:65.10416666666666%\n"
     ]
    }
   ],
   "source": [
    "print(f'neuralnet accuracy:{nnet.accuracy_score(y_test,y_pred)}%')"
   ]
  },
  {
   "cell_type": "markdown",
   "metadata": {},
   "source": [
    "El resultado, de nuevo, no es satisfactorio por lo explicado anteriormente.\n",
    "\n",
    "Las redes neuronales que hemos construido hasta ahora no son suficientemente potentes para responder a la distribución de nuestros datos, donde cada ejemplos es independiente del resto y no existe un correlación entre ellos como ocurría en otros problemas tratados en la asignatura. \n",
    "\n",
    "Por ello, para lograr generalizar, necesitaremos construir un modelo más sofisticado.\n",
    "Para esta tarea utilizaremos la librería *keras*, la cual nos permitirá construir una red neuronal más compleja con más capas y otros algoritmos de optimización."
   ]
  },
  {
   "cell_type": "markdown",
   "metadata": {},
   "source": [
    "## Keras"
   ]
  },
  {
   "cell_type": "markdown",
   "metadata": {},
   "source": [
    "Inicializamos la red neuronal como una secuencia lineal de capas construida tal y como hemos estudiado en la asignatura."
   ]
  },
  {
   "cell_type": "code",
   "execution_count": 190,
   "metadata": {},
   "outputs": [],
   "source": [
    "nnet = Sequential()"
   ]
  },
  {
   "cell_type": "markdown",
   "metadata": {},
   "source": [
    "A continuación agregamos las siguientes capas:\n",
    "- **1ª capa oculta:** dado que el número de variables características de X tras el preprocesamiento es 18, la dimensión de entrada de esta capa debe ser 18 también. La cantidad de nodos de la capa es 9 como resultado de redondear la suma de la cantidad de variables características con la cantidad de clases a predecir entre 2. Utiliza como función de activación *ReLU (Rectified Linear Unit)* debido a su popularidad en construcciones similares a esta.\n",
    "- **2ª capa oculta:** su dimensión de entrada debe ser 9 debido a que es la dimensión de salida de la capa anterior. Además, su cantidad de nodos, seguirá el mismo razonamiento que la dimensión de salida de la capa 1ª, así como su función de activación.\n",
    "- **Capa salida:** su dimensión de entrada debe ser 9 debido a que es la dimensión de salida de la capa anterior. Su dimensión de salida será igual a la cantidad de clases a predecir. Tenemos 2 clases pero la predicción de una puede ser deducida por la predicción de la otra. Es decir, con una única unidad en la capa de salida es suficiente. Utiliza como función de activación *sigmoid* porque esta se mueve en el intervalo [0,1] y, por lo tanto, es ideal para dar el output final de la red como probabilidad en [0,1].\n",
    "\n",
    "La función *relu* cumple la siguiente expresión:\n",
    "\n",
    "$$ R(z) = max(0,z) $$\n",
    "\n",
    "La función *sigmoid* cumple con la siguiente expresión:\n",
    "\n",
    "$$ \\sigma(z) = \\frac{1}{1 + e^{-z}} $$"
   ]
  },
  {
   "cell_type": "code",
   "execution_count": 191,
   "metadata": {},
   "outputs": [],
   "source": [
    "nnet.add(Dense(units=9, kernel_initializer='uniform', activation='relu', input_dim=18))\n",
    "\n",
    "nnet.add(Dense(units=9, kernel_initializer='uniform', activation='relu'))\n",
    "\n",
    "nnet.add(Dense(units=1, kernel_initializer='uniform', activation='sigmoid'))"
   ]
  },
  {
   "cell_type": "markdown",
   "metadata": {},
   "source": [
    "Compilamos la red para configurar la red con las capas definidas previamente.\n",
    "\n",
    "Utilizamos el optimizer *Adam* debido a su bajo coste computacional y su leve carga en memoria, lo cual agiliza el entrenamiento y, como consecuencia, la posterior prueba de diferentes configuraciones. Su funcionamiento dista en cuanto al optimizer visto en la asignatura, *gradient descent*, en el trato del parámetro *learning rate* en el entrenamiento. En vez de utilizar el mismo *learning rate* a lo largo de todo el entrenamiento como hemos aprendido al desarrollar *gradient descent*, combina el planteamiento de las técnicas *Adaptive Gradient Algorithm (AdaGrad)* y *Root Mean Square Propagation (RMSProp)*. *Adam* fue propuesto por Diederik Kingma y Jimmy Ba de la Universidad de Toronto en un paper titulado [“Adam: A Method for Stochastic Optimization“](https://arxiv.org/abs/1412.6980) en ICLR, 2015. \n",
    "\n",
    "Para la decisión del optimizer a utilizar nos hemos apoyado, además, en un paper desarrollado por Sebastian Ruder y titulado [\"An overview of gradient descent optimization algorithms\"](https://arxiv.org/abs/1609.04747)\n",
    "\n",
    "La función de coste es *binary_crossentropy* debido a que la última capa utiliza *sigmoid* como función de activación y debido a que la clasificación a realizar es binaria. Se corresponde con el planteamiento que hemos utilizado en la asignatura para la función de coste en redes neuronales."
   ]
  },
  {
   "cell_type": "code",
   "execution_count": 192,
   "metadata": {},
   "outputs": [],
   "source": [
    "nnet.compile(optimizer='adam', loss='binary_crossentropy', metrics=['accuracy'])"
   ]
  },
  {
   "cell_type": "code",
   "execution_count": 197,
   "metadata": {},
   "outputs": [
    {
     "name": "stdout",
     "output_type": "stream",
     "text": [
      "_________________________________________________________________\n",
      "Layer (type)                 Output Shape              Param #   \n",
      "=================================================================\n",
      "dense_1 (Dense)              (None, 9)                 171       \n",
      "_________________________________________________________________\n",
      "dense_2 (Dense)              (None, 9)                 90        \n",
      "_________________________________________________________________\n",
      "dense_3 (Dense)              (None, 1)                 10        \n",
      "=================================================================\n",
      "Total params: 271\n",
      "Trainable params: 271\n",
      "Non-trainable params: 0\n",
      "_________________________________________________________________\n"
     ]
    }
   ],
   "source": [
    "nnet.summary()"
   ]
  },
  {
   "cell_type": "markdown",
   "metadata": {},
   "source": [
    "Entrenamos la red considerando 150 *epochs*.\n",
    "\n",
    "Utilizaremos el conjunto de datos de validación en el entrenamiento de la red con el objetivo de evitar overfitting y conseguir que nuestro modelo generalice mejor para ejemplos diferentes a los de entrenamiento."
   ]
  },
  {
   "cell_type": "code",
   "execution_count": 198,
   "metadata": {},
   "outputs": [],
   "source": [
    "num_epochs = 150"
   ]
  },
  {
   "cell_type": "code",
   "execution_count": 204,
   "metadata": {
    "scrolled": true
   },
   "outputs": [
    {
     "name": "stdout",
     "output_type": "stream",
     "text": [
      "Train on 574 samples, validate on 192 samples\n",
      "Epoch 1/150\n",
      "574/574 [==============================] - 0s 183us/step - loss: 0.1549 - acc: 0.9669 - val_loss: 0.2045 - val_acc: 0.9167\n",
      "Epoch 2/150\n",
      "574/574 [==============================] - 0s 240us/step - loss: 0.1481 - acc: 0.9669 - val_loss: 0.2047 - val_acc: 0.9427\n",
      "Epoch 3/150\n",
      "574/574 [==============================] - 0s 253us/step - loss: 0.1463 - acc: 0.9704 - val_loss: 0.1918 - val_acc: 0.9219\n",
      "Epoch 4/150\n",
      "574/574 [==============================] - 0s 268us/step - loss: 0.1375 - acc: 0.9739 - val_loss: 0.1848 - val_acc: 0.9323\n",
      "Epoch 5/150\n",
      "574/574 [==============================] - 0s 248us/step - loss: 0.1321 - acc: 0.9739 - val_loss: 0.1878 - val_acc: 0.9427\n",
      "Epoch 6/150\n",
      "574/574 [==============================] - 0s 311us/step - loss: 0.1352 - acc: 0.9756 - val_loss: 0.1727 - val_acc: 0.9375\n",
      "Epoch 7/150\n",
      "574/574 [==============================] - 0s 302us/step - loss: 0.1281 - acc: 0.9826 - val_loss: 0.1813 - val_acc: 0.9271\n",
      "Epoch 8/150\n",
      "574/574 [==============================] - 0s 249us/step - loss: 0.1269 - acc: 0.9826 - val_loss: 0.1623 - val_acc: 0.9479\n",
      "Epoch 9/150\n",
      "574/574 [==============================] - 0s 254us/step - loss: 0.1199 - acc: 0.9774 - val_loss: 0.1611 - val_acc: 0.9687\n",
      "Epoch 10/150\n",
      "574/574 [==============================] - 0s 320us/step - loss: 0.1163 - acc: 0.9843 - val_loss: 0.1481 - val_acc: 0.9740\n",
      "Epoch 11/150\n",
      "574/574 [==============================] - 0s 324us/step - loss: 0.1122 - acc: 0.9843 - val_loss: 0.1478 - val_acc: 0.9635\n",
      "Epoch 12/150\n",
      "574/574 [==============================] - 0s 291us/step - loss: 0.1066 - acc: 0.9861 - val_loss: 0.1490 - val_acc: 0.9583\n",
      "Epoch 13/150\n",
      "574/574 [==============================] - 0s 282us/step - loss: 0.1094 - acc: 0.9843 - val_loss: 0.1484 - val_acc: 0.9583\n",
      "Epoch 14/150\n",
      "574/574 [==============================] - 0s 260us/step - loss: 0.1040 - acc: 0.9861 - val_loss: 0.1437 - val_acc: 0.9740\n",
      "Epoch 15/150\n",
      "574/574 [==============================] - 0s 269us/step - loss: 0.0999 - acc: 0.9861 - val_loss: 0.1534 - val_acc: 0.9375\n",
      "Epoch 16/150\n",
      "574/574 [==============================] - 0s 277us/step - loss: 0.0997 - acc: 0.9913 - val_loss: 0.1293 - val_acc: 0.9844\n",
      "Epoch 17/150\n",
      "574/574 [==============================] - 0s 281us/step - loss: 0.0914 - acc: 0.9930 - val_loss: 0.1269 - val_acc: 0.9792\n",
      "Epoch 18/150\n",
      "574/574 [==============================] - 0s 280us/step - loss: 0.0915 - acc: 0.9895 - val_loss: 0.1256 - val_acc: 0.9844\n",
      "Epoch 19/150\n",
      "574/574 [==============================] - 0s 336us/step - loss: 0.0874 - acc: 0.9948 - val_loss: 0.1308 - val_acc: 0.9635\n",
      "Epoch 20/150\n",
      "574/574 [==============================] - 0s 320us/step - loss: 0.0850 - acc: 0.9930 - val_loss: 0.1246 - val_acc: 0.9687\n",
      "Epoch 21/150\n",
      "574/574 [==============================] - 0s 242us/step - loss: 0.0855 - acc: 0.9878 - val_loss: 0.1159 - val_acc: 0.9792\n",
      "Epoch 22/150\n",
      "574/574 [==============================] - 0s 178us/step - loss: 0.0806 - acc: 0.9895 - val_loss: 0.1107 - val_acc: 0.9844\n",
      "Epoch 23/150\n",
      "574/574 [==============================] - 0s 186us/step - loss: 0.0794 - acc: 0.9948 - val_loss: 0.1097 - val_acc: 0.9896\n",
      "Epoch 24/150\n",
      "574/574 [==============================] - 0s 193us/step - loss: 0.0769 - acc: 0.9930 - val_loss: 0.1088 - val_acc: 0.9896\n",
      "Epoch 25/150\n",
      "574/574 [==============================] - 0s 176us/step - loss: 0.0743 - acc: 0.9965 - val_loss: 0.1029 - val_acc: 0.9896\n",
      "Epoch 26/150\n",
      "574/574 [==============================] - 0s 161us/step - loss: 0.0724 - acc: 0.9965 - val_loss: 0.1041 - val_acc: 0.9948\n",
      "Epoch 27/150\n",
      "574/574 [==============================] - 0s 272us/step - loss: 0.0706 - acc: 0.9965 - val_loss: 0.1024 - val_acc: 0.9896\n",
      "Epoch 28/150\n",
      "574/574 [==============================] - 0s 272us/step - loss: 0.0682 - acc: 0.9983 - val_loss: 0.0985 - val_acc: 0.9896\n",
      "Epoch 29/150\n",
      "574/574 [==============================] - 0s 283us/step - loss: 0.0675 - acc: 0.9965 - val_loss: 0.1033 - val_acc: 0.9844\n",
      "Epoch 30/150\n",
      "574/574 [==============================] - 0s 229us/step - loss: 0.0659 - acc: 0.9948 - val_loss: 0.1064 - val_acc: 0.9844\n",
      "Epoch 31/150\n",
      "574/574 [==============================] - 0s 245us/step - loss: 0.0654 - acc: 0.9965 - val_loss: 0.0954 - val_acc: 0.9948\n",
      "Epoch 32/150\n",
      "574/574 [==============================] - 0s 222us/step - loss: 0.0635 - acc: 0.9965 - val_loss: 0.0902 - val_acc: 0.9896\n",
      "Epoch 33/150\n",
      "574/574 [==============================] - 0s 292us/step - loss: 0.0609 - acc: 0.9948 - val_loss: 0.0922 - val_acc: 0.9896\n",
      "Epoch 34/150\n",
      "574/574 [==============================] - 0s 296us/step - loss: 0.0601 - acc: 0.9948 - val_loss: 0.0880 - val_acc: 0.9896\n",
      "Epoch 35/150\n",
      "574/574 [==============================] - 0s 273us/step - loss: 0.0558 - acc: 0.9983 - val_loss: 0.0897 - val_acc: 0.9896\n",
      "Epoch 36/150\n",
      "574/574 [==============================] - 0s 237us/step - loss: 0.0557 - acc: 0.9965 - val_loss: 0.0863 - val_acc: 0.9896\n",
      "Epoch 37/150\n",
      "574/574 [==============================] - 0s 180us/step - loss: 0.0546 - acc: 0.9983 - val_loss: 0.0819 - val_acc: 0.9896\n",
      "Epoch 38/150\n",
      "574/574 [==============================] - 0s 129us/step - loss: 0.0522 - acc: 1.0000 - val_loss: 0.0810 - val_acc: 0.9896\n",
      "Epoch 39/150\n",
      "574/574 [==============================] - 0s 153us/step - loss: 0.0513 - acc: 0.9965 - val_loss: 0.0832 - val_acc: 0.9948\n",
      "Epoch 40/150\n",
      "574/574 [==============================] - 0s 119us/step - loss: 0.0502 - acc: 0.9983 - val_loss: 0.0846 - val_acc: 0.9844\n",
      "Epoch 41/150\n",
      "574/574 [==============================] - 0s 200us/step - loss: 0.0492 - acc: 0.9965 - val_loss: 0.0758 - val_acc: 0.9948\n",
      "Epoch 42/150\n",
      "574/574 [==============================] - 0s 167us/step - loss: 0.0467 - acc: 0.9983 - val_loss: 0.0775 - val_acc: 0.9896\n",
      "Epoch 43/150\n",
      "574/574 [==============================] - 0s 123us/step - loss: 0.0466 - acc: 0.9983 - val_loss: 0.0786 - val_acc: 0.9896\n",
      "Epoch 44/150\n",
      "574/574 [==============================] - 0s 198us/step - loss: 0.0506 - acc: 0.9965 - val_loss: 0.0775 - val_acc: 0.9896\n",
      "Epoch 45/150\n",
      "574/574 [==============================] - 0s 152us/step - loss: 0.0440 - acc: 0.9983 - val_loss: 0.0743 - val_acc: 0.9896\n",
      "Epoch 46/150\n",
      "574/574 [==============================] - 0s 169us/step - loss: 0.0432 - acc: 0.9965 - val_loss: 0.0734 - val_acc: 0.9948\n",
      "Epoch 47/150\n",
      "574/574 [==============================] - 0s 201us/step - loss: 0.0412 - acc: 0.9983 - val_loss: 0.0777 - val_acc: 0.9896\n",
      "Epoch 48/150\n",
      "574/574 [==============================] - 0s 151us/step - loss: 0.0434 - acc: 0.9983 - val_loss: 0.0732 - val_acc: 0.9948\n",
      "Epoch 49/150\n",
      "574/574 [==============================] - 0s 130us/step - loss: 0.0412 - acc: 0.9983 - val_loss: 0.0706 - val_acc: 0.9948\n",
      "Epoch 50/150\n",
      "574/574 [==============================] - 0s 188us/step - loss: 0.0402 - acc: 0.9983 - val_loss: 0.0674 - val_acc: 0.9948\n",
      "Epoch 51/150\n",
      "574/574 [==============================] - 0s 119us/step - loss: 0.0382 - acc: 1.0000 - val_loss: 0.0752 - val_acc: 0.9896\n",
      "Epoch 52/150\n",
      "574/574 [==============================] - 0s 189us/step - loss: 0.0413 - acc: 0.9965 - val_loss: 0.0707 - val_acc: 0.9948\n",
      "Epoch 53/150\n",
      "574/574 [==============================] - 0s 153us/step - loss: 0.0375 - acc: 0.9983 - val_loss: 0.0686 - val_acc: 0.9896\n",
      "Epoch 54/150\n",
      "574/574 [==============================] - 0s 127us/step - loss: 0.0352 - acc: 0.9983 - val_loss: 0.0712 - val_acc: 0.9896\n",
      "Epoch 55/150\n",
      "574/574 [==============================] - 0s 186us/step - loss: 0.0353 - acc: 1.0000 - val_loss: 0.0680 - val_acc: 0.9896\n",
      "Epoch 56/150\n",
      "574/574 [==============================] - 0s 154us/step - loss: 0.0348 - acc: 0.9983 - val_loss: 0.0747 - val_acc: 0.9844\n",
      "Epoch 57/150\n",
      "574/574 [==============================] - 0s 156us/step - loss: 0.0350 - acc: 0.9965 - val_loss: 0.0647 - val_acc: 0.9948\n",
      "Epoch 58/150\n",
      "574/574 [==============================] - 0s 205us/step - loss: 0.0357 - acc: 0.9948 - val_loss: 0.0672 - val_acc: 0.9896\n",
      "Epoch 59/150\n",
      "574/574 [==============================] - 0s 155us/step - loss: 0.0323 - acc: 0.9965 - val_loss: 0.0648 - val_acc: 0.9948\n",
      "Epoch 60/150\n",
      "574/574 [==============================] - 0s 129us/step - loss: 0.0319 - acc: 0.9983 - val_loss: 0.0633 - val_acc: 0.9896\n"
     ]
    },
    {
     "name": "stdout",
     "output_type": "stream",
     "text": [
      "Epoch 61/150\n",
      "574/574 [==============================] - 0s 169us/step - loss: 0.0334 - acc: 0.9965 - val_loss: 0.0615 - val_acc: 0.9948\n",
      "Epoch 62/150\n",
      "574/574 [==============================] - 0s 151us/step - loss: 0.0322 - acc: 0.9983 - val_loss: 0.0644 - val_acc: 0.9844\n",
      "Epoch 63/150\n",
      "574/574 [==============================] - 0s 147us/step - loss: 0.0303 - acc: 0.9965 - val_loss: 0.0679 - val_acc: 0.9844\n",
      "Epoch 64/150\n",
      "574/574 [==============================] - 0s 146us/step - loss: 0.0299 - acc: 0.9983 - val_loss: 0.0704 - val_acc: 0.9844\n",
      "Epoch 65/150\n",
      "574/574 [==============================] - 0s 133us/step - loss: 0.0293 - acc: 0.9965 - val_loss: 0.0574 - val_acc: 0.9896\n",
      "Epoch 66/150\n",
      "574/574 [==============================] - 0s 176us/step - loss: 0.0268 - acc: 0.9983 - val_loss: 0.0606 - val_acc: 0.9844\n",
      "Epoch 67/150\n",
      "574/574 [==============================] - 0s 121us/step - loss: 0.0274 - acc: 0.9983 - val_loss: 0.0554 - val_acc: 0.9948\n",
      "Epoch 68/150\n",
      "574/574 [==============================] - 0s 186us/step - loss: 0.0287 - acc: 0.9983 - val_loss: 0.0555 - val_acc: 0.9948\n",
      "Epoch 69/150\n",
      "574/574 [==============================] - 0s 164us/step - loss: 0.0294 - acc: 0.9948 - val_loss: 0.0703 - val_acc: 0.9844\n",
      "Epoch 70/150\n",
      "574/574 [==============================] - 0s 118us/step - loss: 0.0268 - acc: 0.9983 - val_loss: 0.0527 - val_acc: 0.9948\n",
      "Epoch 71/150\n",
      "574/574 [==============================] - 0s 175us/step - loss: 0.0260 - acc: 0.9983 - val_loss: 0.0598 - val_acc: 0.9948\n",
      "Epoch 72/150\n",
      "574/574 [==============================] - 0s 147us/step - loss: 0.0285 - acc: 0.9948 - val_loss: 0.0562 - val_acc: 0.9896\n",
      "Epoch 73/150\n",
      "574/574 [==============================] - 0s 147us/step - loss: 0.0239 - acc: 0.9965 - val_loss: 0.0526 - val_acc: 0.9896\n",
      "Epoch 74/150\n",
      "574/574 [==============================] - 0s 179us/step - loss: 0.0284 - acc: 0.9948 - val_loss: 0.0610 - val_acc: 0.9896\n",
      "Epoch 75/150\n",
      "574/574 [==============================] - 0s 112us/step - loss: 0.0251 - acc: 1.0000 - val_loss: 0.0513 - val_acc: 0.9948\n",
      "Epoch 76/150\n",
      "574/574 [==============================] - 0s 172us/step - loss: 0.0232 - acc: 0.9983 - val_loss: 0.0518 - val_acc: 0.9948\n",
      "Epoch 77/150\n",
      "574/574 [==============================] - 0s 142us/step - loss: 0.0222 - acc: 1.0000 - val_loss: 0.0549 - val_acc: 0.9896\n",
      "Epoch 78/150\n",
      "574/574 [==============================] - 0s 136us/step - loss: 0.0234 - acc: 0.9983 - val_loss: 0.0848 - val_acc: 0.9740\n",
      "Epoch 79/150\n",
      "574/574 [==============================] - 0s 173us/step - loss: 0.0229 - acc: 0.9983 - val_loss: 0.0517 - val_acc: 0.9948\n",
      "Epoch 80/150\n",
      "574/574 [==============================] - 0s 113us/step - loss: 0.0248 - acc: 0.9983 - val_loss: 0.0563 - val_acc: 0.9896\n",
      "Epoch 81/150\n",
      "574/574 [==============================] - 0s 171us/step - loss: 0.0216 - acc: 0.9983 - val_loss: 0.0618 - val_acc: 0.9844\n",
      "Epoch 82/150\n",
      "574/574 [==============================] - 0s 150us/step - loss: 0.0208 - acc: 0.9983 - val_loss: 0.0652 - val_acc: 0.9844\n",
      "Epoch 83/150\n",
      "574/574 [==============================] - 0s 148us/step - loss: 0.0229 - acc: 0.9983 - val_loss: 0.0573 - val_acc: 0.9948\n",
      "Epoch 84/150\n",
      "574/574 [==============================] - 0s 162us/step - loss: 0.0226 - acc: 0.9983 - val_loss: 0.0495 - val_acc: 0.9896\n",
      "Epoch 85/150\n",
      "574/574 [==============================] - 0s 123us/step - loss: 0.0211 - acc: 1.0000 - val_loss: 0.0576 - val_acc: 0.9896\n",
      "Epoch 86/150\n",
      "574/574 [==============================] - 0s 155us/step - loss: 0.0235 - acc: 0.9965 - val_loss: 0.0504 - val_acc: 0.9948\n",
      "Epoch 87/150\n",
      "574/574 [==============================] - 0s 120us/step - loss: 0.0191 - acc: 0.9983 - val_loss: 0.0621 - val_acc: 0.9792\n",
      "Epoch 88/150\n",
      "574/574 [==============================] - 0s 161us/step - loss: 0.0209 - acc: 0.9965 - val_loss: 0.0518 - val_acc: 0.9896\n",
      "Epoch 89/150\n",
      "574/574 [==============================] - 0s 146us/step - loss: 0.0192 - acc: 0.9983 - val_loss: 0.0481 - val_acc: 0.9948\n",
      "Epoch 90/150\n",
      "574/574 [==============================] - 0s 131us/step - loss: 0.0196 - acc: 0.9983 - val_loss: 0.0473 - val_acc: 0.9948\n",
      "Epoch 91/150\n",
      "574/574 [==============================] - 0s 177us/step - loss: 0.0173 - acc: 1.0000 - val_loss: 0.0519 - val_acc: 0.9896\n",
      "Epoch 92/150\n",
      "574/574 [==============================] - 0s 128us/step - loss: 0.0178 - acc: 0.9965 - val_loss: 0.0468 - val_acc: 0.9896\n",
      "Epoch 93/150\n",
      "574/574 [==============================] - 0s 154us/step - loss: 0.0175 - acc: 0.9983 - val_loss: 0.0598 - val_acc: 0.9844\n",
      "Epoch 94/150\n",
      "574/574 [==============================] - 0s 146us/step - loss: 0.0171 - acc: 1.0000 - val_loss: 0.0590 - val_acc: 0.9792\n",
      "Epoch 95/150\n",
      "574/574 [==============================] - 0s 130us/step - loss: 0.0201 - acc: 0.9983 - val_loss: 0.0480 - val_acc: 0.9896\n",
      "Epoch 96/150\n",
      "574/574 [==============================] - 0s 170us/step - loss: 0.0174 - acc: 0.9983 - val_loss: 0.0444 - val_acc: 0.9948\n",
      "Epoch 97/150\n",
      "574/574 [==============================] - 0s 117us/step - loss: 0.0188 - acc: 0.9965 - val_loss: 0.0476 - val_acc: 0.9948\n",
      "Epoch 98/150\n",
      "574/574 [==============================] - 0s 175us/step - loss: 0.0168 - acc: 0.9965 - val_loss: 0.0547 - val_acc: 0.9844\n",
      "Epoch 99/150\n",
      "574/574 [==============================] - 0s 168us/step - loss: 0.0158 - acc: 1.0000 - val_loss: 0.0496 - val_acc: 0.9948\n",
      "Epoch 100/150\n",
      "574/574 [==============================] - 0s 119us/step - loss: 0.0179 - acc: 1.0000 - val_loss: 0.0426 - val_acc: 0.9948\n",
      "Epoch 101/150\n",
      "574/574 [==============================] - 0s 188us/step - loss: 0.0150 - acc: 0.9983 - val_loss: 0.0434 - val_acc: 0.9948\n",
      "Epoch 102/150\n",
      "574/574 [==============================] - 0s 177us/step - loss: 0.0152 - acc: 0.9965 - val_loss: 0.0441 - val_acc: 0.9948\n",
      "Epoch 103/150\n",
      "574/574 [==============================] - 0s 149us/step - loss: 0.0142 - acc: 1.0000 - val_loss: 0.0441 - val_acc: 0.9948\n",
      "Epoch 104/150\n",
      "574/574 [==============================] - 0s 158us/step - loss: 0.0146 - acc: 0.9983 - val_loss: 0.0420 - val_acc: 0.9948\n",
      "Epoch 105/150\n",
      "574/574 [==============================] - 0s 123us/step - loss: 0.0179 - acc: 0.9948 - val_loss: 0.0597 - val_acc: 0.9844\n",
      "Epoch 106/150\n",
      "574/574 [==============================] - 0s 173us/step - loss: 0.0150 - acc: 0.9983 - val_loss: 0.0395 - val_acc: 0.9948\n",
      "Epoch 107/150\n",
      "574/574 [==============================] - 0s 136us/step - loss: 0.0138 - acc: 0.9983 - val_loss: 0.0409 - val_acc: 0.9948\n",
      "Epoch 108/150\n",
      "574/574 [==============================] - 0s 148us/step - loss: 0.0141 - acc: 0.9983 - val_loss: 0.0509 - val_acc: 0.9896\n",
      "Epoch 109/150\n",
      "574/574 [==============================] - 0s 166us/step - loss: 0.0146 - acc: 0.9983 - val_loss: 0.0382 - val_acc: 0.9948\n",
      "Epoch 110/150\n",
      "574/574 [==============================] - 0s 111us/step - loss: 0.0127 - acc: 1.0000 - val_loss: 0.0386 - val_acc: 0.9896\n",
      "Epoch 111/150\n",
      "574/574 [==============================] - 0s 184us/step - loss: 0.0128 - acc: 1.0000 - val_loss: 0.0397 - val_acc: 0.9948\n",
      "Epoch 112/150\n",
      "574/574 [==============================] - 0s 160us/step - loss: 0.0135 - acc: 0.9983 - val_loss: 0.0616 - val_acc: 0.9896\n",
      "Epoch 113/150\n",
      "574/574 [==============================] - 0s 134us/step - loss: 0.0155 - acc: 0.9983 - val_loss: 0.0412 - val_acc: 0.9896\n",
      "Epoch 114/150\n",
      "574/574 [==============================] - 0s 201us/step - loss: 0.0149 - acc: 0.9965 - val_loss: 0.0389 - val_acc: 0.9896\n",
      "Epoch 115/150\n",
      "574/574 [==============================] - 0s 163us/step - loss: 0.0117 - acc: 1.0000 - val_loss: 0.0427 - val_acc: 0.9896\n",
      "Epoch 116/150\n",
      "574/574 [==============================] - 0s 152us/step - loss: 0.0114 - acc: 1.0000 - val_loss: 0.0410 - val_acc: 0.9948\n",
      "Epoch 117/150\n",
      "574/574 [==============================] - 0s 164us/step - loss: 0.0114 - acc: 0.9983 - val_loss: 0.0417 - val_acc: 0.9948\n",
      "Epoch 118/150\n",
      "574/574 [==============================] - 0s 113us/step - loss: 0.0117 - acc: 1.0000 - val_loss: 0.0409 - val_acc: 0.9948\n",
      "Epoch 119/150\n",
      "574/574 [==============================] - 0s 173us/step - loss: 0.0111 - acc: 0.9983 - val_loss: 0.0415 - val_acc: 0.9948\n",
      "Epoch 120/150\n",
      "574/574 [==============================] - 0s 133us/step - loss: 0.0125 - acc: 0.9983 - val_loss: 0.0374 - val_acc: 0.9948\n",
      "Epoch 121/150\n"
     ]
    },
    {
     "name": "stdout",
     "output_type": "stream",
     "text": [
      "574/574 [==============================] - 0s 165us/step - loss: 0.0124 - acc: 1.0000 - val_loss: 0.0422 - val_acc: 0.9896\n",
      "Epoch 122/150\n",
      "574/574 [==============================] - 0s 205us/step - loss: 0.0101 - acc: 1.0000 - val_loss: 0.0418 - val_acc: 0.9948\n",
      "Epoch 123/150\n",
      "574/574 [==============================] - 0s 145us/step - loss: 0.0103 - acc: 0.9983 - val_loss: 0.0424 - val_acc: 0.9948\n",
      "Epoch 124/150\n",
      "574/574 [==============================] - 0s 133us/step - loss: 0.0106 - acc: 1.0000 - val_loss: 0.0405 - val_acc: 0.9896\n",
      "Epoch 125/150\n",
      "574/574 [==============================] - 0s 161us/step - loss: 0.0101 - acc: 1.0000 - val_loss: 0.0403 - val_acc: 0.9948\n",
      "Epoch 126/150\n",
      "574/574 [==============================] - 0s 111us/step - loss: 0.0109 - acc: 1.0000 - val_loss: 0.0403 - val_acc: 0.9948\n",
      "Epoch 127/150\n",
      "574/574 [==============================] - 0s 173us/step - loss: 0.0149 - acc: 0.9948 - val_loss: 0.0636 - val_acc: 0.9844\n",
      "Epoch 128/150\n",
      "574/574 [==============================] - 0s 116us/step - loss: 0.0134 - acc: 0.9965 - val_loss: 0.0414 - val_acc: 0.9948\n",
      "Epoch 129/150\n",
      "574/574 [==============================] - 0s 161us/step - loss: 0.0088 - acc: 1.0000 - val_loss: 0.0383 - val_acc: 0.9948\n",
      "Epoch 130/150\n",
      "574/574 [==============================] - 0s 165us/step - loss: 0.0096 - acc: 1.0000 - val_loss: 0.0413 - val_acc: 0.9948\n",
      "Epoch 131/150\n",
      "574/574 [==============================] - 0s 125us/step - loss: 0.0148 - acc: 0.9965 - val_loss: 0.0502 - val_acc: 0.9896\n",
      "Epoch 132/150\n",
      "574/574 [==============================] - 0s 160us/step - loss: 0.0084 - acc: 1.0000 - val_loss: 0.0443 - val_acc: 0.9896\n",
      "Epoch 133/150\n",
      "574/574 [==============================] - 0s 111us/step - loss: 0.0090 - acc: 0.9983 - val_loss: 0.0430 - val_acc: 0.9948\n",
      "Epoch 134/150\n",
      "574/574 [==============================] - 0s 168us/step - loss: 0.0079 - acc: 1.0000 - val_loss: 0.0419 - val_acc: 0.9948\n",
      "Epoch 135/150\n",
      "574/574 [==============================] - 0s 147us/step - loss: 0.0081 - acc: 1.0000 - val_loss: 0.0445 - val_acc: 0.9948\n",
      "Epoch 136/150\n",
      "574/574 [==============================] - 0s 161us/step - loss: 0.0082 - acc: 1.0000 - val_loss: 0.0401 - val_acc: 0.9948\n",
      "Epoch 137/150\n",
      "574/574 [==============================] - 0s 167us/step - loss: 0.0091 - acc: 0.9983 - val_loss: 0.0483 - val_acc: 0.9896\n",
      "Epoch 138/150\n",
      "574/574 [==============================] - 0s 118us/step - loss: 0.0114 - acc: 0.9983 - val_loss: 0.0404 - val_acc: 0.9896\n",
      "Epoch 139/150\n",
      "574/574 [==============================] - 0s 149us/step - loss: 0.0085 - acc: 1.0000 - val_loss: 0.0375 - val_acc: 0.9948\n",
      "Epoch 140/150\n",
      "574/574 [==============================] - 0s 149us/step - loss: 0.0080 - acc: 0.9983 - val_loss: 0.0396 - val_acc: 0.9948\n",
      "Epoch 141/150\n",
      "574/574 [==============================] - 0s 144us/step - loss: 0.0103 - acc: 0.9983 - val_loss: 0.0426 - val_acc: 0.9896\n",
      "Epoch 142/150\n",
      "574/574 [==============================] - 0s 172us/step - loss: 0.0108 - acc: 0.9983 - val_loss: 0.0452 - val_acc: 0.9948\n",
      "Epoch 143/150\n",
      "574/574 [==============================] - 0s 118us/step - loss: 0.0086 - acc: 1.0000 - val_loss: 0.0395 - val_acc: 0.9948\n",
      "Epoch 144/150\n",
      "574/574 [==============================] - 0s 172us/step - loss: 0.0078 - acc: 1.0000 - val_loss: 0.0404 - val_acc: 0.9948\n",
      "Epoch 145/150\n",
      "574/574 [==============================] - 0s 173us/step - loss: 0.0080 - acc: 1.0000 - val_loss: 0.0391 - val_acc: 0.9948\n",
      "Epoch 146/150\n",
      "574/574 [==============================] - 0s 133us/step - loss: 0.0064 - acc: 1.0000 - val_loss: 0.0516 - val_acc: 0.9896\n",
      "Epoch 147/150\n",
      "574/574 [==============================] - 0s 166us/step - loss: 0.0099 - acc: 0.9965 - val_loss: 0.0385 - val_acc: 0.9896\n",
      "Epoch 148/150\n",
      "574/574 [==============================] - 0s 132us/step - loss: 0.0092 - acc: 1.0000 - val_loss: 0.0388 - val_acc: 0.9948\n",
      "Epoch 149/150\n",
      "574/574 [==============================] - 0s 149us/step - loss: 0.0069 - acc: 1.0000 - val_loss: 0.0401 - val_acc: 0.9948\n",
      "Epoch 150/150\n",
      "574/574 [==============================] - 0s 162us/step - loss: 0.0079 - acc: 1.0000 - val_loss: 0.0435 - val_acc: 0.9948\n"
     ]
    }
   ],
   "source": [
    "train_history = nnet.fit(X_train, y_train, batch_size=10,\n",
    "                         epochs=num_epochs, validation_data=(X_val, y_val))"
   ]
  },
  {
   "cell_type": "markdown",
   "metadata": {},
   "source": [
    "Para evaluar el resultado del entrenamiento del modelo, dibujamos la progresión de la precisión y del error de la red neuronal construida sobre los ejemplos de entrenamiento y sobre los ejemplos de validación. Esto nos permite reconocer posibles errores de bias u overfitting, si los hubiera."
   ]
  },
  {
   "cell_type": "code",
   "execution_count": 217,
   "metadata": {
    "scrolled": true
   },
   "outputs": [
    {
     "data": {
      "text/plain": [
       "<matplotlib.legend.Legend at 0x7f21a00cacc0>"
      ]
     },
     "execution_count": 217,
     "metadata": {},
     "output_type": "execute_result"
    },
    {
     "data": {
      "image/png": "[encoded data removed]",
      "text/plain": [
       "<Figure size 540x360 with 1 Axes>"
      ]
     },
     "metadata": {},
     "output_type": "display_data"
    }
   ],
   "source": [
    "epochs_range = np.arange(0, num_epochs)\n",
    "\n",
    "plt.rcParams.update({'font.size': 14})\n",
    "plt.figure(figsize=(7.5,5))\n",
    "plt.plot(epochs_range, train_history.history[\"loss\"], label=\"train_loss\")\n",
    "plt.plot(epochs_range, train_history.history[\"val_loss\"], label=\"val_loss\")\n",
    "plt.plot(epochs_range, train_history.history[\"acc\"], label=\"train_acc\")\n",
    "plt.plot(epochs_range, train_history.history[\"val_acc\"], label=\"val_acc\")\n",
    "plt.title(\"Training Loss and Accuracy\")\n",
    "plt.xlabel(\"Epoch #\")\n",
    "plt.ylabel(\"Loss/Accuracy\")\n",
    "plt.legend()"
   ]
  },
  {
   "cell_type": "markdown",
   "metadata": {},
   "source": [
    "Tanto el coste como la precisión de ambos conjuntos de ejemplos progresan de forma ideal. El coste desciende considerablemente a lo largo del entrenamiento así como la precisión aumenta, lo cual predice que la red funciona correctamente."
   ]
  },
  {
   "cell_type": "markdown",
   "metadata": {},
   "source": [
    "Una vez entrenada la red, predecimos el etiquetado de los datos de *X_test*"
   ]
  },
  {
   "cell_type": "code",
   "execution_count": 222,
   "metadata": {},
   "outputs": [],
   "source": [
    "y_pred = nnet.predict_classes(X_test)"
   ]
  },
  {
   "cell_type": "code",
   "execution_count": 223,
   "metadata": {},
   "outputs": [
    {
     "name": "stdout",
     "output_type": "stream",
     "text": [
      "neuralnet accuracy:96.875%\n"
     ]
    }
   ],
   "source": [
    "print(f'neuralnet accuracy:{accuracy_score(y_test,y_pred)*100}%')"
   ]
  },
  {
   "cell_type": "markdown",
   "metadata": {},
   "source": [
    "El resultado es bueno, alcanzando un porcentaje de acierto realmente correcto con un tiempo de entrenamiento muy breve.\n",
    "\n",
    "Esto se debe a una correcta elección hiper paramétrica del modelo así como una construcción robusta de la red neuronal. Gracias a la librería *Keras* podemos utilizar estos ajustes en el modelo. De no ser así, tendríamos que cambiar en gran medida el compartamiento del modelo desarrollado a lo largo de las prácticas."
   ]
  },
  {
   "cell_type": "markdown",
   "metadata": {},
   "source": [
    "A continuación, probamos diferentes configuraciones de la red neuronal construida para intentar obtener un porcentaje de aciertos mayor."
   ]
  },
  {
   "cell_type": "code",
   "execution_count": 226,
   "metadata": {},
   "outputs": [],
   "source": [
    "nnet = Sequential()\n",
    "\n",
    "nnet.add(Dense(units=9, kernel_initializer='uniform', activation='relu', input_dim=18))\n",
    "\n",
    "nnet.add(Dense(units=9, kernel_initializer='uniform', activation='relu'))\n",
    "\n",
    "nnet.add(Dense(units=9, kernel_initializer='uniform', activation='relu'))\n",
    "\n",
    "nnet.add(Dense(units=1, kernel_initializer='uniform', activation='sigmoid'))\n",
    "\n",
    "nnet.compile(optimizer='adam', loss='binary_crossentropy', metrics=['accuracy'])"
   ]
  },
  {
   "cell_type": "markdown",
   "metadata": {},
   "source": [
    "En este caso, entrenamos la red con un número *epochs* mayor debido al aumento del número de capas ocultas."
   ]
  },
  {
   "cell_type": "code",
   "execution_count": 227,
   "metadata": {},
   "outputs": [],
   "source": [
    "num_epochs = 200"
   ]
  },
  {
   "cell_type": "code",
   "execution_count": 230,
   "metadata": {},
   "outputs": [
    {
     "name": "stdout",
     "output_type": "stream",
     "text": [
      "Train on 574 samples, validate on 192 samples\n",
      "Epoch 1/200\n",
      "574/574 [==============================] - 0s 231us/step - loss: 0.0468 - acc: 0.9843 - val_loss: 0.0434 - val_acc: 0.9896\n",
      "Epoch 2/200\n",
      "574/574 [==============================] - 0s 183us/step - loss: 0.0460 - acc: 0.9826 - val_loss: 0.0477 - val_acc: 0.9896\n",
      "Epoch 3/200\n",
      "574/574 [==============================] - 0s 247us/step - loss: 0.0492 - acc: 0.9843 - val_loss: 0.0444 - val_acc: 0.9896\n",
      "Epoch 4/200\n",
      "574/574 [==============================] - 0s 333us/step - loss: 0.0448 - acc: 0.9843 - val_loss: 0.0651 - val_acc: 0.9896\n",
      "Epoch 5/200\n",
      "574/574 [==============================] - 0s 323us/step - loss: 0.0617 - acc: 0.9843 - val_loss: 0.0467 - val_acc: 0.9896\n",
      "Epoch 6/200\n",
      "574/574 [==============================] - 0s 275us/step - loss: 0.0446 - acc: 0.9861 - val_loss: 0.0472 - val_acc: 0.9896\n",
      "Epoch 7/200\n",
      "574/574 [==============================] - 0s 321us/step - loss: 0.0555 - acc: 0.9826 - val_loss: 0.0470 - val_acc: 0.9896\n",
      "Epoch 8/200\n",
      "574/574 [==============================] - 0s 273us/step - loss: 0.0531 - acc: 0.9878 - val_loss: 0.0474 - val_acc: 0.9896\n",
      "Epoch 9/200\n",
      "574/574 [==============================] - 0s 310us/step - loss: 0.0510 - acc: 0.9843 - val_loss: 0.0539 - val_acc: 0.9844\n",
      "Epoch 10/200\n",
      "574/574 [==============================] - 0s 295us/step - loss: 0.0479 - acc: 0.9843 - val_loss: 0.0477 - val_acc: 0.9896\n",
      "Epoch 11/200\n",
      "574/574 [==============================] - 0s 344us/step - loss: 0.0483 - acc: 0.9878 - val_loss: 0.0504 - val_acc: 0.9896\n",
      "Epoch 12/200\n",
      "574/574 [==============================] - 0s 363us/step - loss: 0.0618 - acc: 0.9826 - val_loss: 0.0545 - val_acc: 0.9896\n",
      "Epoch 13/200\n",
      "574/574 [==============================] - 0s 410us/step - loss: 0.0652 - acc: 0.9878 - val_loss: 0.0471 - val_acc: 0.9896\n",
      "Epoch 14/200\n",
      "574/574 [==============================] - 0s 256us/step - loss: 0.0471 - acc: 0.9878 - val_loss: 0.0500 - val_acc: 0.9896\n",
      "Epoch 15/200\n",
      "574/574 [==============================] - 0s 244us/step - loss: 0.0465 - acc: 0.9843 - val_loss: 0.0490 - val_acc: 0.9896\n",
      "Epoch 16/200\n",
      "574/574 [==============================] - 0s 249us/step - loss: 0.0517 - acc: 0.9826 - val_loss: 0.0422 - val_acc: 0.9896\n",
      "Epoch 17/200\n",
      "574/574 [==============================] - 0s 224us/step - loss: 0.0506 - acc: 0.9826 - val_loss: 0.0511 - val_acc: 0.9792\n",
      "Epoch 18/200\n",
      "574/574 [==============================] - 0s 179us/step - loss: 0.0606 - acc: 0.9774 - val_loss: 0.0451 - val_acc: 0.9896\n",
      "Epoch 19/200\n",
      "574/574 [==============================] - 0s 213us/step - loss: 0.0442 - acc: 0.9861 - val_loss: 0.0620 - val_acc: 0.9635\n",
      "Epoch 20/200\n",
      "574/574 [==============================] - 0s 318us/step - loss: 0.0471 - acc: 0.9826 - val_loss: 0.0527 - val_acc: 0.9896\n",
      "Epoch 21/200\n",
      "574/574 [==============================] - 0s 370us/step - loss: 0.0490 - acc: 0.9843 - val_loss: 0.0517 - val_acc: 0.9896\n",
      "Epoch 22/200\n",
      "574/574 [==============================] - 0s 338us/step - loss: 0.0585 - acc: 0.9878 - val_loss: 0.0472 - val_acc: 0.9896\n",
      "Epoch 23/200\n",
      "574/574 [==============================] - 0s 327us/step - loss: 0.0541 - acc: 0.9808 - val_loss: 0.0468 - val_acc: 0.9896\n",
      "Epoch 24/200\n",
      "574/574 [==============================] - 0s 343us/step - loss: 0.0532 - acc: 0.9826 - val_loss: 0.0449 - val_acc: 0.9896\n",
      "Epoch 25/200\n",
      "574/574 [==============================] - 0s 339us/step - loss: 0.0548 - acc: 0.9826 - val_loss: 0.0460 - val_acc: 0.9896\n",
      "Epoch 26/200\n",
      "574/574 [==============================] - 0s 343us/step - loss: 0.0554 - acc: 0.9843 - val_loss: 0.0595 - val_acc: 0.9740\n",
      "Epoch 27/200\n",
      "574/574 [==============================] - 0s 333us/step - loss: 0.0489 - acc: 0.9826 - val_loss: 0.0471 - val_acc: 0.9896\n",
      "Epoch 28/200\n",
      "574/574 [==============================] - 0s 394us/step - loss: 0.0489 - acc: 0.9843 - val_loss: 0.0424 - val_acc: 0.9896\n",
      "Epoch 29/200\n",
      "574/574 [==============================] - 0s 375us/step - loss: 0.0617 - acc: 0.9826 - val_loss: 0.0642 - val_acc: 0.9844\n",
      "Epoch 30/200\n",
      "574/574 [==============================] - 0s 104us/step - loss: 0.0463 - acc: 0.9826 - val_loss: 0.0507 - val_acc: 0.9792\n",
      "Epoch 31/200\n",
      "574/574 [==============================] - 0s 98us/step - loss: 0.0403 - acc: 0.9808 - val_loss: 0.0531 - val_acc: 0.9896\n",
      "Epoch 32/200\n",
      "574/574 [==============================] - 0s 114us/step - loss: 0.0565 - acc: 0.9791 - val_loss: 0.0451 - val_acc: 0.9896\n",
      "Epoch 33/200\n",
      "574/574 [==============================] - 0s 96us/step - loss: 0.0483 - acc: 0.9861 - val_loss: 0.0460 - val_acc: 0.9896\n",
      "Epoch 34/200\n",
      "574/574 [==============================] - 0s 97us/step - loss: 0.0556 - acc: 0.9826 - val_loss: 0.0480 - val_acc: 0.9792\n",
      "Epoch 35/200\n",
      "574/574 [==============================] - 0s 94us/step - loss: 0.0554 - acc: 0.9878 - val_loss: 0.0494 - val_acc: 0.9896\n",
      "Epoch 36/200\n",
      "574/574 [==============================] - 0s 96us/step - loss: 0.0443 - acc: 0.9843 - val_loss: 0.0517 - val_acc: 0.9740\n",
      "Epoch 37/200\n",
      "574/574 [==============================] - 0s 94us/step - loss: 0.0436 - acc: 0.9878 - val_loss: 0.0505 - val_acc: 0.9844\n",
      "Epoch 38/200\n",
      "574/574 [==============================] - 0s 103us/step - loss: 0.0492 - acc: 0.9843 - val_loss: 0.0563 - val_acc: 0.9844\n",
      "Epoch 39/200\n",
      "574/574 [==============================] - 0s 338us/step - loss: 0.0550 - acc: 0.9826 - val_loss: 0.0524 - val_acc: 0.9896\n",
      "Epoch 40/200\n",
      "574/574 [==============================] - 0s 299us/step - loss: 0.0471 - acc: 0.9826 - val_loss: 0.0493 - val_acc: 0.9896\n",
      "Epoch 41/200\n",
      "574/574 [==============================] - 0s 170us/step - loss: 0.0492 - acc: 0.9843 - val_loss: 0.0482 - val_acc: 0.9896\n",
      "Epoch 42/200\n",
      "574/574 [==============================] - 0s 253us/step - loss: 0.0483 - acc: 0.9878 - val_loss: 0.0808 - val_acc: 0.9635\n",
      "Epoch 43/200\n",
      "574/574 [==============================] - 0s 102us/step - loss: 0.0574 - acc: 0.9808 - val_loss: 0.0492 - val_acc: 0.9896\n",
      "Epoch 44/200\n",
      "574/574 [==============================] - 0s 98us/step - loss: 0.0469 - acc: 0.9861 - val_loss: 0.0496 - val_acc: 0.9896\n",
      "Epoch 45/200\n",
      "574/574 [==============================] - 0s 120us/step - loss: 0.0646 - acc: 0.9843 - val_loss: 0.0529 - val_acc: 0.9896\n",
      "Epoch 46/200\n",
      "574/574 [==============================] - 0s 99us/step - loss: 0.0570 - acc: 0.9826 - val_loss: 0.0549 - val_acc: 0.9740\n",
      "Epoch 47/200\n",
      "574/574 [==============================] - 0s 102us/step - loss: 0.0491 - acc: 0.9808 - val_loss: 0.0435 - val_acc: 0.9896\n",
      "Epoch 48/200\n",
      "574/574 [==============================] - 0s 97us/step - loss: 0.0470 - acc: 0.9791 - val_loss: 0.0447 - val_acc: 0.9896\n",
      "Epoch 49/200\n",
      "574/574 [==============================] - 0s 95us/step - loss: 0.0434 - acc: 0.9861 - val_loss: 0.0555 - val_acc: 0.9792\n",
      "Epoch 50/200\n",
      "574/574 [==============================] - 0s 95us/step - loss: 0.0531 - acc: 0.9826 - val_loss: 0.0481 - val_acc: 0.9896\n",
      "Epoch 51/200\n",
      "574/574 [==============================] - 0s 91us/step - loss: 0.0492 - acc: 0.9861 - val_loss: 0.0480 - val_acc: 0.9896\n",
      "Epoch 52/200\n",
      "574/574 [==============================] - 0s 98us/step - loss: 0.0534 - acc: 0.9826 - val_loss: 0.0609 - val_acc: 0.9740\n",
      "Epoch 53/200\n",
      "574/574 [==============================] - 0s 107us/step - loss: 0.0471 - acc: 0.9861 - val_loss: 0.0451 - val_acc: 0.9896\n",
      "Epoch 54/200\n",
      "574/574 [==============================] - 0s 106us/step - loss: 0.0451 - acc: 0.9843 - val_loss: 0.0475 - val_acc: 0.9896\n",
      "Epoch 55/200\n",
      "574/574 [==============================] - 0s 92us/step - loss: 0.0424 - acc: 0.9826 - val_loss: 0.0472 - val_acc: 0.9844\n",
      "Epoch 56/200\n",
      "574/574 [==============================] - 0s 94us/step - loss: 0.0513 - acc: 0.9826 - val_loss: 0.0595 - val_acc: 0.9896\n",
      "Epoch 57/200\n",
      "574/574 [==============================] - 0s 93us/step - loss: 0.0547 - acc: 0.9826 - val_loss: 0.0491 - val_acc: 0.9896\n",
      "Epoch 58/200\n",
      "574/574 [==============================] - 0s 94us/step - loss: 0.0462 - acc: 0.9878 - val_loss: 0.0462 - val_acc: 0.9896\n",
      "Epoch 59/200\n",
      "574/574 [==============================] - 0s 246us/step - loss: 0.0497 - acc: 0.9826 - val_loss: 0.0446 - val_acc: 0.9896\n",
      "Epoch 60/200\n",
      "574/574 [==============================] - 0s 217us/step - loss: 0.0454 - acc: 0.9895 - val_loss: 0.0691 - val_acc: 0.9583\n",
      "Epoch 61/200\n"
     ]
    },
    {
     "name": "stdout",
     "output_type": "stream",
     "text": [
      "574/574 [==============================] - 0s 117us/step - loss: 0.0468 - acc: 0.9843 - val_loss: 0.0456 - val_acc: 0.9896\n",
      "Epoch 62/200\n",
      "574/574 [==============================] - 0s 99us/step - loss: 0.0469 - acc: 0.9826 - val_loss: 0.0450 - val_acc: 0.9896\n",
      "Epoch 63/200\n",
      "574/574 [==============================] - 0s 108us/step - loss: 0.0520 - acc: 0.9843 - val_loss: 0.0628 - val_acc: 0.9635\n",
      "Epoch 64/200\n",
      "574/574 [==============================] - 0s 106us/step - loss: 0.0460 - acc: 0.9843 - val_loss: 0.0479 - val_acc: 0.9896\n",
      "Epoch 65/200\n",
      "574/574 [==============================] - 0s 110us/step - loss: 0.0438 - acc: 0.9826 - val_loss: 0.0502 - val_acc: 0.9896\n",
      "Epoch 66/200\n",
      "574/574 [==============================] - 0s 99us/step - loss: 0.0528 - acc: 0.9826 - val_loss: 0.0459 - val_acc: 0.9896\n",
      "Epoch 67/200\n",
      "574/574 [==============================] - 0s 93us/step - loss: 0.0420 - acc: 0.9826 - val_loss: 0.0490 - val_acc: 0.9896\n",
      "Epoch 68/200\n",
      "574/574 [==============================] - 0s 93us/step - loss: 0.0452 - acc: 0.9878 - val_loss: 0.0508 - val_acc: 0.9792\n",
      "Epoch 69/200\n",
      "574/574 [==============================] - 0s 107us/step - loss: 0.0429 - acc: 0.9843 - val_loss: 0.0465 - val_acc: 0.9896\n",
      "Epoch 70/200\n",
      "574/574 [==============================] - 0s 107us/step - loss: 0.0453 - acc: 0.9843 - val_loss: 0.0554 - val_acc: 0.9687\n",
      "Epoch 71/200\n",
      "574/574 [==============================] - 0s 292us/step - loss: 0.0456 - acc: 0.9843 - val_loss: 0.0534 - val_acc: 0.9844\n",
      "Epoch 72/200\n",
      "574/574 [==============================] - 0s 104us/step - loss: 0.0488 - acc: 0.9791 - val_loss: 0.0463 - val_acc: 0.9896\n",
      "Epoch 73/200\n",
      "574/574 [==============================] - 0s 100us/step - loss: 0.0473 - acc: 0.9826 - val_loss: 0.0644 - val_acc: 0.9687\n",
      "Epoch 74/200\n",
      "574/574 [==============================] - 0s 94us/step - loss: 0.0505 - acc: 0.9826 - val_loss: 0.0532 - val_acc: 0.9792\n",
      "Epoch 75/200\n",
      "574/574 [==============================] - 0s 97us/step - loss: 0.0542 - acc: 0.9826 - val_loss: 0.0462 - val_acc: 0.9896\n",
      "Epoch 76/200\n",
      "574/574 [==============================] - 0s 98us/step - loss: 0.0470 - acc: 0.9843 - val_loss: 0.0509 - val_acc: 0.9792\n",
      "Epoch 77/200\n",
      "574/574 [==============================] - 0s 95us/step - loss: 0.0444 - acc: 0.9878 - val_loss: 0.0459 - val_acc: 0.9896\n",
      "Epoch 78/200\n",
      "574/574 [==============================] - 0s 96us/step - loss: 0.0438 - acc: 0.9808 - val_loss: 0.0489 - val_acc: 0.9896\n",
      "Epoch 79/200\n",
      "574/574 [==============================] - 0s 92us/step - loss: 0.0396 - acc: 0.9843 - val_loss: 0.0583 - val_acc: 0.9896\n",
      "Epoch 80/200\n",
      "574/574 [==============================] - 0s 92us/step - loss: 0.0532 - acc: 0.9843 - val_loss: 0.0451 - val_acc: 0.9896\n",
      "Epoch 81/200\n",
      "574/574 [==============================] - 0s 92us/step - loss: 0.0521 - acc: 0.9843 - val_loss: 0.0592 - val_acc: 0.9896\n",
      "Epoch 82/200\n",
      "574/574 [==============================] - 0s 91us/step - loss: 0.0507 - acc: 0.9878 - val_loss: 0.0573 - val_acc: 0.9740\n",
      "Epoch 83/200\n",
      "574/574 [==============================] - 0s 178us/step - loss: 0.0417 - acc: 0.9843 - val_loss: 0.0442 - val_acc: 0.9896\n",
      "Epoch 84/200\n",
      "574/574 [==============================] - 0s 145us/step - loss: 0.0522 - acc: 0.9826 - val_loss: 0.0449 - val_acc: 0.9896\n",
      "Epoch 85/200\n",
      "574/574 [==============================] - 0s 118us/step - loss: 0.0475 - acc: 0.9843 - val_loss: 0.0436 - val_acc: 0.9896\n",
      "Epoch 86/200\n",
      "574/574 [==============================] - 0s 98us/step - loss: 0.0527 - acc: 0.9843 - val_loss: 0.0494 - val_acc: 0.9896\n",
      "Epoch 87/200\n",
      "574/574 [==============================] - 0s 97us/step - loss: 0.0458 - acc: 0.9843 - val_loss: 0.0661 - val_acc: 0.9687\n",
      "Epoch 88/200\n",
      "574/574 [==============================] - 0s 94us/step - loss: 0.0478 - acc: 0.9843 - val_loss: 0.0457 - val_acc: 0.9896\n",
      "Epoch 89/200\n",
      "574/574 [==============================] - 0s 98us/step - loss: 0.0447 - acc: 0.9861 - val_loss: 0.0498 - val_acc: 0.9896\n",
      "Epoch 90/200\n",
      "574/574 [==============================] - 0s 95us/step - loss: 0.0449 - acc: 0.9861 - val_loss: 0.0761 - val_acc: 0.9583\n",
      "Epoch 91/200\n",
      "574/574 [==============================] - 0s 97us/step - loss: 0.0536 - acc: 0.9791 - val_loss: 0.0479 - val_acc: 0.9896\n",
      "Epoch 92/200\n",
      "574/574 [==============================] - 0s 277us/step - loss: 0.0461 - acc: 0.9843 - val_loss: 0.0454 - val_acc: 0.9896\n",
      "Epoch 93/200\n",
      "574/574 [==============================] - 0s 136us/step - loss: 0.0472 - acc: 0.9826 - val_loss: 0.0420 - val_acc: 0.9896\n",
      "Epoch 94/200\n",
      "574/574 [==============================] - 0s 101us/step - loss: 0.0464 - acc: 0.9826 - val_loss: 0.0683 - val_acc: 0.9740\n",
      "Epoch 95/200\n",
      "574/574 [==============================] - 0s 97us/step - loss: 0.0539 - acc: 0.9878 - val_loss: 0.0420 - val_acc: 0.9896\n",
      "Epoch 96/200\n",
      "574/574 [==============================] - 0s 99us/step - loss: 0.0530 - acc: 0.9826 - val_loss: 0.0458 - val_acc: 0.9896\n",
      "Epoch 97/200\n",
      "574/574 [==============================] - 0s 96us/step - loss: 0.0659 - acc: 0.9791 - val_loss: 0.0474 - val_acc: 0.9896\n",
      "Epoch 98/200\n",
      "574/574 [==============================] - 0s 98us/step - loss: 0.0483 - acc: 0.9843 - val_loss: 0.0517 - val_acc: 0.9896\n",
      "Epoch 99/200\n",
      "574/574 [==============================] - 0s 99us/step - loss: 0.0442 - acc: 0.9861 - val_loss: 0.0526 - val_acc: 0.9740\n",
      "Epoch 100/200\n",
      "574/574 [==============================] - 0s 98us/step - loss: 0.0433 - acc: 0.9826 - val_loss: 0.0458 - val_acc: 0.9896\n",
      "Epoch 101/200\n",
      "574/574 [==============================] - 0s 100us/step - loss: 0.0511 - acc: 0.9861 - val_loss: 0.0440 - val_acc: 0.9896\n",
      "Epoch 102/200\n",
      "574/574 [==============================] - 0s 120us/step - loss: 0.0440 - acc: 0.9843 - val_loss: 0.0609 - val_acc: 0.9687\n",
      "Epoch 103/200\n",
      "574/574 [==============================] - 0s 279us/step - loss: 0.0477 - acc: 0.9826 - val_loss: 0.0445 - val_acc: 0.9896\n",
      "Epoch 104/200\n",
      "574/574 [==============================] - 0s 108us/step - loss: 0.0447 - acc: 0.9843 - val_loss: 0.0844 - val_acc: 0.9531\n",
      "Epoch 105/200\n",
      "574/574 [==============================] - 0s 126us/step - loss: 0.0573 - acc: 0.9756 - val_loss: 0.0568 - val_acc: 0.9896\n",
      "Epoch 106/200\n",
      "574/574 [==============================] - 0s 96us/step - loss: 0.0475 - acc: 0.9861 - val_loss: 0.0672 - val_acc: 0.9635\n",
      "Epoch 107/200\n",
      "574/574 [==============================] - 0s 94us/step - loss: 0.0439 - acc: 0.9878 - val_loss: 0.0478 - val_acc: 0.9896\n",
      "Epoch 108/200\n",
      "574/574 [==============================] - 0s 96us/step - loss: 0.0489 - acc: 0.9861 - val_loss: 0.0705 - val_acc: 0.9531\n",
      "Epoch 109/200\n",
      "574/574 [==============================] - 0s 95us/step - loss: 0.0502 - acc: 0.9843 - val_loss: 0.0482 - val_acc: 0.9896\n",
      "Epoch 110/200\n",
      "574/574 [==============================] - 0s 96us/step - loss: 0.0449 - acc: 0.9861 - val_loss: 0.0445 - val_acc: 0.9896\n",
      "Epoch 111/200\n",
      "574/574 [==============================] - 0s 95us/step - loss: 0.0526 - acc: 0.9826 - val_loss: 0.0634 - val_acc: 0.9896\n",
      "Epoch 112/200\n",
      "574/574 [==============================] - 0s 95us/step - loss: 0.0532 - acc: 0.9808 - val_loss: 0.0474 - val_acc: 0.9896\n",
      "Epoch 113/200\n",
      "574/574 [==============================] - 0s 91us/step - loss: 0.0492 - acc: 0.9808 - val_loss: 0.0492 - val_acc: 0.9896\n",
      "Epoch 114/200\n",
      "574/574 [==============================] - 0s 91us/step - loss: 0.0548 - acc: 0.9774 - val_loss: 0.0545 - val_acc: 0.9896\n",
      "Epoch 115/200\n",
      "574/574 [==============================] - 0s 96us/step - loss: 0.0511 - acc: 0.9843 - val_loss: 0.0723 - val_acc: 0.9583\n",
      "Epoch 116/200\n",
      "574/574 [==============================] - 0s 91us/step - loss: 0.0537 - acc: 0.9878 - val_loss: 0.0434 - val_acc: 0.9896\n",
      "Epoch 117/200\n",
      "574/574 [==============================] - 0s 90us/step - loss: 0.0495 - acc: 0.9843 - val_loss: 0.0463 - val_acc: 0.9896\n",
      "Epoch 118/200\n",
      "574/574 [==============================] - 0s 90us/step - loss: 0.0418 - acc: 0.9861 - val_loss: 0.0510 - val_acc: 0.9792\n",
      "Epoch 119/200\n",
      "574/574 [==============================] - 0s 197us/step - loss: 0.0432 - acc: 0.9861 - val_loss: 0.0475 - val_acc: 0.9896\n",
      "Epoch 120/200\n",
      "574/574 [==============================] - 0s 351us/step - loss: 0.0485 - acc: 0.9843 - val_loss: 0.0573 - val_acc: 0.9896\n",
      "Epoch 121/200\n"
     ]
    },
    {
     "name": "stdout",
     "output_type": "stream",
     "text": [
      "574/574 [==============================] - 0s 179us/step - loss: 0.0546 - acc: 0.9843 - val_loss: 0.0504 - val_acc: 0.9896\n",
      "Epoch 122/200\n",
      "574/574 [==============================] - 0s 156us/step - loss: 0.0511 - acc: 0.9843 - val_loss: 0.0533 - val_acc: 0.9896\n",
      "Epoch 123/200\n",
      "574/574 [==============================] - 0s 227us/step - loss: 0.0541 - acc: 0.9808 - val_loss: 0.0452 - val_acc: 0.9896\n",
      "Epoch 124/200\n",
      "574/574 [==============================] - 0s 265us/step - loss: 0.0468 - acc: 0.9843 - val_loss: 0.0494 - val_acc: 0.9896\n",
      "Epoch 125/200\n",
      "574/574 [==============================] - 0s 215us/step - loss: 0.0495 - acc: 0.9826 - val_loss: 0.0528 - val_acc: 0.9896\n",
      "Epoch 126/200\n",
      "574/574 [==============================] - 0s 234us/step - loss: 0.0508 - acc: 0.9843 - val_loss: 0.0470 - val_acc: 0.9896\n",
      "Epoch 127/200\n",
      "574/574 [==============================] - 0s 169us/step - loss: 0.0475 - acc: 0.9861 - val_loss: 0.0524 - val_acc: 0.9844\n",
      "Epoch 128/200\n",
      "574/574 [==============================] - 0s 172us/step - loss: 0.0542 - acc: 0.9843 - val_loss: 0.0482 - val_acc: 0.9896\n",
      "Epoch 129/200\n",
      "574/574 [==============================] - 0s 175us/step - loss: 0.0520 - acc: 0.9878 - val_loss: 0.0513 - val_acc: 0.9844\n",
      "Epoch 130/200\n",
      "574/574 [==============================] - 0s 173us/step - loss: 0.0497 - acc: 0.9861 - val_loss: 0.0454 - val_acc: 0.9896\n",
      "Epoch 131/200\n",
      "574/574 [==============================] - 0s 170us/step - loss: 0.0517 - acc: 0.9843 - val_loss: 0.0443 - val_acc: 0.9896\n",
      "Epoch 132/200\n",
      "574/574 [==============================] - 0s 160us/step - loss: 0.0437 - acc: 0.9808 - val_loss: 0.0693 - val_acc: 0.9896\n",
      "Epoch 133/200\n",
      "574/574 [==============================] - 0s 167us/step - loss: 0.0636 - acc: 0.9843 - val_loss: 0.0442 - val_acc: 0.9896\n",
      "Epoch 134/200\n",
      "574/574 [==============================] - 0s 175us/step - loss: 0.0486 - acc: 0.9913 - val_loss: 0.0462 - val_acc: 0.9896\n",
      "Epoch 135/200\n",
      "574/574 [==============================] - 0s 149us/step - loss: 0.0509 - acc: 0.9861 - val_loss: 0.0593 - val_acc: 0.9687\n",
      "Epoch 136/200\n",
      "574/574 [==============================] - 0s 181us/step - loss: 0.0417 - acc: 0.9913 - val_loss: 0.0459 - val_acc: 0.9896\n",
      "Epoch 137/200\n",
      "574/574 [==============================] - 0s 127us/step - loss: 0.0472 - acc: 0.9808 - val_loss: 0.0453 - val_acc: 0.9896\n",
      "Epoch 138/200\n",
      "574/574 [==============================] - 0s 139us/step - loss: 0.0585 - acc: 0.9791 - val_loss: 0.0469 - val_acc: 0.9896\n",
      "Epoch 139/200\n",
      "574/574 [==============================] - 0s 121us/step - loss: 0.0528 - acc: 0.9843 - val_loss: 0.0634 - val_acc: 0.9687\n",
      "Epoch 140/200\n",
      "574/574 [==============================] - 0s 93us/step - loss: 0.0465 - acc: 0.9878 - val_loss: 0.0463 - val_acc: 0.9896\n",
      "Epoch 141/200\n",
      "574/574 [==============================] - 0s 118us/step - loss: 0.0550 - acc: 0.9808 - val_loss: 0.0508 - val_acc: 0.9896\n",
      "Epoch 142/200\n",
      "574/574 [==============================] - 0s 96us/step - loss: 0.0562 - acc: 0.9843 - val_loss: 0.0439 - val_acc: 0.9896\n",
      "Epoch 143/200\n",
      "574/574 [==============================] - 0s 95us/step - loss: 0.0469 - acc: 0.9826 - val_loss: 0.0472 - val_acc: 0.9896\n",
      "Epoch 144/200\n",
      "574/574 [==============================] - 0s 94us/step - loss: 0.0553 - acc: 0.9826 - val_loss: 0.0559 - val_acc: 0.9740\n",
      "Epoch 145/200\n",
      "574/574 [==============================] - 0s 97us/step - loss: 0.0575 - acc: 0.9878 - val_loss: 0.0473 - val_acc: 0.9896\n",
      "Epoch 146/200\n",
      "574/574 [==============================] - 0s 100us/step - loss: 0.0513 - acc: 0.9861 - val_loss: 0.0509 - val_acc: 0.9896\n",
      "Epoch 147/200\n",
      "574/574 [==============================] - 0s 110us/step - loss: 0.0479 - acc: 0.9861 - val_loss: 0.0480 - val_acc: 0.9896\n",
      "Epoch 148/200\n",
      "574/574 [==============================] - 0s 135us/step - loss: 0.0554 - acc: 0.9808 - val_loss: 0.0526 - val_acc: 0.9896\n",
      "Epoch 149/200\n",
      "574/574 [==============================] - 0s 133us/step - loss: 0.0481 - acc: 0.9878 - val_loss: 0.0456 - val_acc: 0.9896\n",
      "Epoch 150/200\n",
      "574/574 [==============================] - 0s 186us/step - loss: 0.0434 - acc: 0.9808 - val_loss: 0.0479 - val_acc: 0.9896\n",
      "Epoch 151/200\n",
      "574/574 [==============================] - 0s 157us/step - loss: 0.0455 - acc: 0.9826 - val_loss: 0.0494 - val_acc: 0.9896\n",
      "Epoch 152/200\n",
      "574/574 [==============================] - 0s 136us/step - loss: 0.0562 - acc: 0.9843 - val_loss: 0.0533 - val_acc: 0.9896\n",
      "Epoch 153/200\n",
      "574/574 [==============================] - 0s 106us/step - loss: 0.0491 - acc: 0.9843 - val_loss: 0.0508 - val_acc: 0.9896\n",
      "Epoch 154/200\n",
      "574/574 [==============================] - 0s 91us/step - loss: 0.0413 - acc: 0.9878 - val_loss: 0.0457 - val_acc: 0.9896\n",
      "Epoch 155/200\n",
      "574/574 [==============================] - 0s 92us/step - loss: 0.0470 - acc: 0.9843 - val_loss: 0.0523 - val_acc: 0.9792\n",
      "Epoch 156/200\n",
      "574/574 [==============================] - 0s 92us/step - loss: 0.0453 - acc: 0.9878 - val_loss: 0.0483 - val_acc: 0.9896\n",
      "Epoch 157/200\n",
      "574/574 [==============================] - 0s 94us/step - loss: 0.0545 - acc: 0.9843 - val_loss: 0.0492 - val_acc: 0.9896\n",
      "Epoch 158/200\n",
      "574/574 [==============================] - 0s 91us/step - loss: 0.0522 - acc: 0.9861 - val_loss: 0.0574 - val_acc: 0.9896\n",
      "Epoch 159/200\n",
      "574/574 [==============================] - 0s 91us/step - loss: 0.0468 - acc: 0.9878 - val_loss: 0.0598 - val_acc: 0.9896\n",
      "Epoch 160/200\n",
      "574/574 [==============================] - 0s 99us/step - loss: 0.0507 - acc: 0.9843 - val_loss: 0.0481 - val_acc: 0.9896\n",
      "Epoch 161/200\n",
      "574/574 [==============================] - 0s 95us/step - loss: 0.0525 - acc: 0.9861 - val_loss: 0.0444 - val_acc: 0.9896\n",
      "Epoch 162/200\n",
      "574/574 [==============================] - 0s 92us/step - loss: 0.0468 - acc: 0.9861 - val_loss: 0.0440 - val_acc: 0.9896\n",
      "Epoch 163/200\n",
      "574/574 [==============================] - 0s 92us/step - loss: 0.0466 - acc: 0.9826 - val_loss: 0.0472 - val_acc: 0.9896\n",
      "Epoch 164/200\n",
      "574/574 [==============================] - 0s 92us/step - loss: 0.0432 - acc: 0.9861 - val_loss: 0.0496 - val_acc: 0.9792\n",
      "Epoch 165/200\n",
      "574/574 [==============================] - 0s 91us/step - loss: 0.0523 - acc: 0.9843 - val_loss: 0.0572 - val_acc: 0.9635\n",
      "Epoch 166/200\n",
      "574/574 [==============================] - 0s 91us/step - loss: 0.0495 - acc: 0.9826 - val_loss: 0.0579 - val_acc: 0.9740\n",
      "Epoch 167/200\n",
      "574/574 [==============================] - 0s 120us/step - loss: 0.0491 - acc: 0.9826 - val_loss: 0.0473 - val_acc: 0.9896\n",
      "Epoch 168/200\n",
      "574/574 [==============================] - 0s 97us/step - loss: 0.0488 - acc: 0.9843 - val_loss: 0.0484 - val_acc: 0.9896\n",
      "Epoch 169/200\n",
      "574/574 [==============================] - 0s 97us/step - loss: 0.0460 - acc: 0.9843 - val_loss: 0.1095 - val_acc: 0.9427\n",
      "Epoch 170/200\n",
      "574/574 [==============================] - 0s 139us/step - loss: 0.0573 - acc: 0.9826 - val_loss: 0.0469 - val_acc: 0.9896\n",
      "Epoch 171/200\n",
      "574/574 [==============================] - 0s 115us/step - loss: 0.0440 - acc: 0.9861 - val_loss: 0.0458 - val_acc: 0.9896\n",
      "Epoch 172/200\n",
      "574/574 [==============================] - 0s 96us/step - loss: 0.0398 - acc: 0.9878 - val_loss: 0.0600 - val_acc: 0.9687\n",
      "Epoch 173/200\n",
      "574/574 [==============================] - 0s 93us/step - loss: 0.0487 - acc: 0.9808 - val_loss: 0.0477 - val_acc: 0.9896\n",
      "Epoch 174/200\n",
      "574/574 [==============================] - 0s 95us/step - loss: 0.0500 - acc: 0.9826 - val_loss: 0.0522 - val_acc: 0.9896\n",
      "Epoch 175/200\n",
      "574/574 [==============================] - 0s 146us/step - loss: 0.0515 - acc: 0.9826 - val_loss: 0.0820 - val_acc: 0.9479\n",
      "Epoch 176/200\n",
      "574/574 [==============================] - 0s 147us/step - loss: 0.0473 - acc: 0.9843 - val_loss: 0.0459 - val_acc: 0.9896\n",
      "Epoch 177/200\n",
      "574/574 [==============================] - 0s 210us/step - loss: 0.0442 - acc: 0.9843 - val_loss: 0.0575 - val_acc: 0.9896\n",
      "Epoch 178/200\n",
      "574/574 [==============================] - 0s 340us/step - loss: 0.0484 - acc: 0.9878 - val_loss: 0.0442 - val_acc: 0.9896\n",
      "Epoch 179/200\n",
      "574/574 [==============================] - 0s 286us/step - loss: 0.0486 - acc: 0.9861 - val_loss: 0.0499 - val_acc: 0.9896\n",
      "Epoch 180/200\n",
      "574/574 [==============================] - 0s 111us/step - loss: 0.0529 - acc: 0.9808 - val_loss: 0.0536 - val_acc: 0.9896\n",
      "Epoch 181/200\n"
     ]
    },
    {
     "name": "stdout",
     "output_type": "stream",
     "text": [
      "574/574 [==============================] - 0s 168us/step - loss: 0.0500 - acc: 0.9861 - val_loss: 0.0455 - val_acc: 0.9896\n",
      "Epoch 182/200\n",
      "574/574 [==============================] - 0s 359us/step - loss: 0.0517 - acc: 0.9826 - val_loss: 0.0664 - val_acc: 0.9896\n",
      "Epoch 183/200\n",
      "574/574 [==============================] - 0s 231us/step - loss: 0.0619 - acc: 0.9843 - val_loss: 0.0443 - val_acc: 0.9896\n",
      "Epoch 184/200\n",
      "574/574 [==============================] - 0s 243us/step - loss: 0.0475 - acc: 0.9843 - val_loss: 0.0459 - val_acc: 0.9896\n",
      "Epoch 185/200\n",
      "574/574 [==============================] - 0s 253us/step - loss: 0.0432 - acc: 0.9843 - val_loss: 0.0564 - val_acc: 0.9740\n",
      "Epoch 186/200\n",
      "574/574 [==============================] - 0s 180us/step - loss: 0.0531 - acc: 0.9843 - val_loss: 0.0480 - val_acc: 0.9896\n",
      "Epoch 187/200\n",
      "574/574 [==============================] - 0s 131us/step - loss: 0.0514 - acc: 0.9843 - val_loss: 0.0492 - val_acc: 0.9896\n",
      "Epoch 188/200\n",
      "574/574 [==============================] - 0s 154us/step - loss: 0.0450 - acc: 0.9861 - val_loss: 0.0815 - val_acc: 0.9531\n",
      "Epoch 189/200\n",
      "574/574 [==============================] - 0s 100us/step - loss: 0.0548 - acc: 0.9808 - val_loss: 0.0478 - val_acc: 0.9896\n",
      "Epoch 190/200\n",
      "574/574 [==============================] - 0s 101us/step - loss: 0.0533 - acc: 0.9843 - val_loss: 0.0563 - val_acc: 0.9896\n",
      "Epoch 191/200\n",
      "574/574 [==============================] - 0s 107us/step - loss: 0.0413 - acc: 0.9861 - val_loss: 0.0463 - val_acc: 0.9896\n",
      "Epoch 192/200\n",
      "574/574 [==============================] - 0s 98us/step - loss: 0.0709 - acc: 0.9808 - val_loss: 0.0508 - val_acc: 0.9896\n",
      "Epoch 193/200\n",
      "574/574 [==============================] - 0s 108us/step - loss: 0.0485 - acc: 0.9878 - val_loss: 0.0461 - val_acc: 0.9896\n",
      "Epoch 194/200\n",
      "574/574 [==============================] - 0s 127us/step - loss: 0.0461 - acc: 0.9826 - val_loss: 0.0441 - val_acc: 0.9896\n",
      "Epoch 195/200\n",
      "574/574 [==============================] - 0s 115us/step - loss: 0.0465 - acc: 0.9808 - val_loss: 0.0473 - val_acc: 0.9896\n",
      "Epoch 196/200\n",
      "574/574 [==============================] - 0s 112us/step - loss: 0.0486 - acc: 0.9861 - val_loss: 0.0467 - val_acc: 0.9896\n",
      "Epoch 197/200\n",
      "574/574 [==============================] - 0s 113us/step - loss: 0.0491 - acc: 0.9843 - val_loss: 0.0575 - val_acc: 0.9896\n",
      "Epoch 198/200\n",
      "574/574 [==============================] - 0s 110us/step - loss: 0.0459 - acc: 0.9843 - val_loss: 0.0467 - val_acc: 0.9896\n",
      "Epoch 199/200\n",
      "574/574 [==============================] - 0s 99us/step - loss: 0.0466 - acc: 0.9861 - val_loss: 0.0521 - val_acc: 0.9792\n",
      "Epoch 200/200\n",
      "574/574 [==============================] - 0s 97us/step - loss: 0.0449 - acc: 0.9826 - val_loss: 0.0504 - val_acc: 0.9896\n"
     ]
    }
   ],
   "source": [
    "train_history = nnet.fit(X_train, y_train, batch_size=10,\n",
    "                         epochs=num_epochs, validation_data=(X_val, y_val))"
   ]
  },
  {
   "cell_type": "code",
   "execution_count": 231,
   "metadata": {
    "scrolled": false
   },
   "outputs": [
    {
     "data": {
      "text/plain": [
       "<matplotlib.legend.Legend at 0x7f21a83076d8>"
      ]
     },
     "execution_count": 231,
     "metadata": {},
     "output_type": "execute_result"
    },
    {
     "data": {
      "image/png": "[encoded data removed]",
      "text/plain": [
       "<Figure size 540x360 with 1 Axes>"
      ]
     },
     "metadata": {},
     "output_type": "display_data"
    }
   ],
   "source": [
    "epochs_range = np.arange(0, num_epochs)\n",
    "\n",
    "plt.figure(figsize=(7.5,5))\n",
    "plt.plot(epochs_range, train_history.history[\"loss\"], label=\"train_loss\")\n",
    "plt.plot(epochs_range, train_history.history[\"val_loss\"], label=\"val_loss\")\n",
    "plt.plot(epochs_range, train_history.history[\"acc\"], label=\"train_acc\")\n",
    "plt.plot(epochs_range, train_history.history[\"val_acc\"], label=\"val_acc\")\n",
    "plt.title(\"Training Loss and Accuracy\")\n",
    "plt.xlabel(\"Epoch #\")\n",
    "plt.ylabel(\"Loss/Accuracy\")\n",
    "plt.legend()"
   ]
  },
  {
   "cell_type": "markdown",
   "metadata": {},
   "source": [
    "El resultado del entrenamiento es realmente similar al obtenido previamente: exitoso."
   ]
  },
  {
   "cell_type": "code",
   "execution_count": 232,
   "metadata": {},
   "outputs": [],
   "source": [
    "y_pred = nnet.predict_classes(X_test)"
   ]
  },
  {
   "cell_type": "code",
   "execution_count": 233,
   "metadata": {
    "scrolled": true
   },
   "outputs": [
    {
     "name": "stdout",
     "output_type": "stream",
     "text": [
      "neuralnet accuracy:96.875%\n"
     ]
    }
   ],
   "source": [
    "print(f'neuralnet accuracy:{accuracy_score(y_test,y_pred)*100}%')"
   ]
  },
  {
   "cell_type": "markdown",
   "metadata": {},
   "source": [
    "El resultado es el mismo. Quiere decir que ya alcanzó una configuración óptima el modelo con la construcción anterior."
   ]
  },
  {
   "cell_type": "markdown",
   "metadata": {},
   "source": [
    "Por lo tanto, consideramos que no podemos obtener mejores resultados agregando más capas aún a la red."
   ]
  },
  {
   "cell_type": "markdown",
   "metadata": {},
   "source": [
    "# Support Vector Machines"
   ]
  },
  {
   "cell_type": "markdown",
   "metadata": {},
   "source": [
    "Definimos los parámetros que vamos a utilizar inicialmente para la construcción del modelo."
   ]
  },
  {
   "cell_type": "code",
   "execution_count": 284,
   "metadata": {},
   "outputs": [],
   "source": [
    "C, sigma = 2.0, 1.0\n",
    "gamma = lambda s: 1/(2*s**2)"
   ]
  },
  {
   "cell_type": "code",
   "execution_count": 285,
   "metadata": {},
   "outputs": [],
   "source": [
    "svm = SVC(kernel='rbf', C=C, gamma=gamma(sigma))"
   ]
  },
  {
   "cell_type": "code",
   "execution_count": 286,
   "metadata": {
    "scrolled": true
   },
   "outputs": [
    {
     "data": {
      "text/plain": [
       "SVC(C=2.0, cache_size=200, class_weight=None, coef0=0.0,\n",
       "  decision_function_shape='ovr', degree=3, gamma=0.5, kernel='rbf',\n",
       "  max_iter=-1, probability=False, random_state=None, shrinking=True,\n",
       "  tol=0.001, verbose=False)"
      ]
     },
     "execution_count": 286,
     "metadata": {},
     "output_type": "execute_result"
    }
   ],
   "source": [
    "svm.fit(X=X_train,y=y_train)"
   ]
  },
  {
   "cell_type": "code",
   "execution_count": 287,
   "metadata": {},
   "outputs": [],
   "source": [
    "y_pred = svm.predict(X=X_test)"
   ]
  },
  {
   "cell_type": "code",
   "execution_count": 288,
   "metadata": {
    "scrolled": true
   },
   "outputs": [
    {
     "name": "stdout",
     "output_type": "stream",
     "text": [
      "svm accuracy:95.83333333333334%\n"
     ]
    }
   ],
   "source": [
    "print(f'svm accuracy:{accuracy_score(y_test,y_pred)*100}%')"
   ]
  },
  {
   "cell_type": "markdown",
   "metadata": {},
   "source": [
    "Probaremos varias configuraciones de parámetros C y sigma a través del método cv_config() que prueba combinaciones de diferentes C con diferentes sigma utilizando la metodología de validación vista en la asignatura. Para ello, utiliza los datos de entrenamiento y los datos de validación."
   ]
  },
  {
   "cell_type": "code",
   "execution_count": 274,
   "metadata": {},
   "outputs": [
    {
     "name": "stdout",
     "output_type": "stream",
     "text": [
      "best score:98.95833333333334%, config:(C=10.0,sigma=3.0)\n"
     ]
    }
   ],
   "source": [
    "svm = SVC(kernel='rbf') # modelo vacio\n",
    "scores, configs = cv_config(svm, train_X=X_train,\n",
    "                            train_y=y_train, val_X=X_val, val_y=y_val)\n",
    "best_config_index = np.argmax(scores)\n",
    "best_C = configs[best_config_index][0]\n",
    "best_sigma = configs[best_config_index][1]\n",
    "print(f'best score:{scores[best_config_index]*100}%,'\n",
    "      +f' config:(C={best_C},'\n",
    "      +f'sigma={best_sigma})')"
   ]
  },
  {
   "cell_type": "markdown",
   "metadata": {},
   "source": [
    "Una vez conocemos los mejores parámetros posibles para el modelo, los utilizamos para conocer qué porcentaje de acierto obtenemos sobre el conjunto de datos *X_test*."
   ]
  },
  {
   "cell_type": "code",
   "execution_count": 289,
   "metadata": {},
   "outputs": [],
   "source": [
    "svm = SVC(kernel='rbf', C=best_C, gamma=gamma(best_sigma))"
   ]
  },
  {
   "cell_type": "code",
   "execution_count": 290,
   "metadata": {
    "scrolled": true
   },
   "outputs": [
    {
     "data": {
      "text/plain": [
       "SVC(C=10.0, cache_size=200, class_weight=None, coef0=0.0,\n",
       "  decision_function_shape='ovr', degree=3, gamma=0.05555555555555555,\n",
       "  kernel='rbf', max_iter=-1, probability=False, random_state=None,\n",
       "  shrinking=True, tol=0.001, verbose=False)"
      ]
     },
     "execution_count": 290,
     "metadata": {},
     "output_type": "execute_result"
    }
   ],
   "source": [
    "svm.fit(X=X_train,y=y_train)"
   ]
  },
  {
   "cell_type": "code",
   "execution_count": 291,
   "metadata": {},
   "outputs": [],
   "source": [
    "y_pred = svm.predict(X=X_test)"
   ]
  },
  {
   "cell_type": "code",
   "execution_count": 292,
   "metadata": {
    "scrolled": false
   },
   "outputs": [
    {
     "name": "stdout",
     "output_type": "stream",
     "text": [
      "svm accuracy:96.875%\n"
     ]
    }
   ],
   "source": [
    "print(f'svm accuracy:{accuracy_score(y_test,y_pred)*100}%')"
   ]
  },
  {
   "cell_type": "markdown",
   "metadata": {},
   "source": [
    "El resultado es muy bueno, es el mismo que obteníamos previamente con la red construida con *Keras*."
   ]
  },
  {
   "cell_type": "markdown",
   "metadata": {},
   "source": [
    "# Árboles de decisión"
   ]
  },
  {
   "cell_type": "code",
   "execution_count": 293,
   "metadata": {},
   "outputs": [],
   "source": [
    "# PLACEHOLDER: hablar sobre el uso de arboles de decision en los papers citados en la web del dataset"
   ]
  },
  {
   "cell_type": "code",
   "execution_count": 295,
   "metadata": {},
   "outputs": [],
   "source": [
    "dtree = DecisionTreeClassifier()"
   ]
  },
  {
   "cell_type": "code",
   "execution_count": 296,
   "metadata": {},
   "outputs": [
    {
     "data": {
      "text/plain": [
       "DecisionTreeClassifier(class_weight=None, criterion='gini', max_depth=None,\n",
       "            max_features=None, max_leaf_nodes=None,\n",
       "            min_impurity_decrease=0.0, min_impurity_split=None,\n",
       "            min_samples_leaf=1, min_samples_split=2,\n",
       "            min_weight_fraction_leaf=0.0, presort=False, random_state=None,\n",
       "            splitter='best')"
      ]
     },
     "execution_count": 296,
     "metadata": {},
     "output_type": "execute_result"
    }
   ],
   "source": [
    "dtree.fit(X=X_train, y=y_train)"
   ]
  },
  {
   "cell_type": "code",
   "execution_count": 297,
   "metadata": {
    "scrolled": false
   },
   "outputs": [
    {
     "name": "stdout",
     "output_type": "stream",
     "text": [
      "decission tree accuracy:88.02083333333334%\n"
     ]
    }
   ],
   "source": [
    "print(f'decission tree accuracy:{dtree.score(X_test, y_test)*100}%')"
   ]
  },
  {
   "cell_type": "code",
   "execution_count": 307,
   "metadata": {},
   "outputs": [],
   "source": [
    "# https://www.kaggle.com/willkoehrsen/visualize-a-decision-tree-w-python-scikit-learn\n",
    "import graphviz \n",
    "from sklearn.tree import export_graphviz  \n",
    "\n",
    "dot_data = export_graphviz(dtree, out_file='dtree.dot', class_names=['x','o'],\n",
    "                           filled=True, rounded=True,\n",
    "                           special_characters=True)  \n",
    "graph = graphviz.Source(dot_data)\n",
    "graph"
   ]
  },
  {
   "cell_type": "code",
   "execution_count": null,
   "metadata": {},
   "outputs": [],
   "source": []
  },
  {
   "cell_type": "code",
   "execution_count": null,
   "metadata": {},
   "outputs": [],
   "source": []
  },
  {
   "cell_type": "code",
   "execution_count": 129,
   "metadata": {
    "scrolled": false
   },
   "outputs": [
    {
     "name": "stdout",
     "output_type": "stream",
     "text": [
      "The autoreload extension is already loaded. To reload it, use:\n",
      "  %reload_ext autoreload\n"
     ]
    }
   ],
   "source": [
    "%load_ext autoreload"
   ]
  },
  {
   "cell_type": "code",
   "execution_count": 135,
   "metadata": {},
   "outputs": [],
   "source": [
    "%reload_ext autoreload"
   ]
  },
  {
   "cell_type": "code",
   "execution_count": 143,
   "metadata": {},
   "outputs": [],
   "source": [
    "%autoreload 0 # 2 para cargar a cada ejecucion los modulos. 0 para no cargar"
   ]
  },
  {
   "cell_type": "markdown",
   "metadata": {},
   "source": [
    "# Conclusión"
   ]
  },
  {
   "cell_type": "markdown",
   "metadata": {},
   "source": [
    "PLACEHOLDER "
   ]
  }
 ],
 "metadata": {
  "kernelspec": {
   "display_name": "Python 3",
   "language": "python",
   "name": "python3"
  },
  "language_info": {
   "codemirror_mode": {
    "name": "ipython",
    "version": 3
   },
   "file_extension": ".py",
   "mimetype": "text/x-python",
   "name": "python",
   "nbconvert_exporter": "python",
   "pygments_lexer": "ipython3",
   "version": "3.6.5"
  }
 },
 "nbformat": 4,
 "nbformat_minor": 2
}
