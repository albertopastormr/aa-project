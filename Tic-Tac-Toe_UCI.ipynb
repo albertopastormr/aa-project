{
 "cells": [
  {
   "cell_type": "markdown",
   "metadata": {},
   "source": [
    "# Introducción"
   ]
  },
  {
   "cell_type": "markdown",
   "metadata": {},
   "source": [
    "En este documento exploraremos y analizaremos un dataset proporcionado por el profesorado que imparte la asignatura _Aprendizaje Automático_ en la Facultad de Informática, Universidad Complutense de Madrid. \n",
    "\n",
    "Implementaremos un modelo que realice predicciones de etiquetado binario utilizando este dataset, considerando múltiples configuraciones para el modelo, observando cómo varía su precisión y eficiencia. Para llevar a cabo estas tareas, utilizaremos las librerías _matplotlib, numpy y scikit-learn_.\n",
    "\n",
    "El objetivo de este ejercicio es, por lo tanto, poner en práctica varias habilidades aprendidas durante el desarrollo de la asignatura a lo largo de los últimos meses. De esta forma, utilizaremos únicamente metodologías impartidas en la asignatura.\n",
    "\n",
    "A continuación, realizaremos la carga de librerías, datos y un breve análisis."
   ]
  },
  {
   "cell_type": "code",
   "execution_count": 4,
   "metadata": {},
   "outputs": [
    {
     "data": {
      "text/plain": [
       "'/home/albertopastormr/anaconda3/bin/python'"
      ]
     },
     "execution_count": 4,
     "metadata": {},
     "output_type": "execute_result"
    }
   ],
   "source": [
    "import sys\n",
    "\n",
    "sys.path\n",
    "\n",
    "sys.executable\n",
    "\n"
   ]
  },
  {
   "cell_type": "code",
   "execution_count": 5,
   "metadata": {},
   "outputs": [
    {
     "name": "stderr",
     "output_type": "stream",
     "text": [
      "/home/albertopastormr/anaconda3/lib/python3.6/site-packages/h5py/__init__.py:36: FutureWarning: Conversion of the second argument of issubdtype from `float` to `np.floating` is deprecated. In future, it will be treated as `np.float64 == np.dtype(float).type`.\n",
      "  from ._conv import register_converters as _register_converters\n",
      "Using TensorFlow backend.\n"
     ]
    }
   ],
   "source": [
    "import numpy as np\n",
    "import matplotlib.pyplot as plt\n",
    "import pandas as pd\n",
    "\n",
    "# sklearn\n",
    "from sklearn.preprocessing import PolynomialFeatures, LabelEncoder, OneHotEncoder\n",
    "from sklearn.svm import SVC\n",
    "from sklearn.model_selection import train_test_split\n",
    "from sklearn.metrics import accuracy_score\n",
    "\n",
    "# keras\n",
    "from keras.models import Sequential\n",
    "from keras.layers import Dense\n",
    "\n",
    "# ficheros .py locales\n",
    "from log_reg import LogReg # /log_reg.py\n",
    "from neural_net import NeuralNet # /neural_net.py\n",
    "from cross_validation import cv_config # /cross_validation\n",
    "import drawing"
   ]
  },
  {
   "cell_type": "code",
   "execution_count": 6,
   "metadata": {},
   "outputs": [
    {
     "name": "stdout",
     "output_type": "stream",
     "text": [
      "tic-tac-toe.data  tic-tac-toe.names  tic-tac-toe_X.csv\r\n"
     ]
    }
   ],
   "source": [
    "!ls dataset/"
   ]
  },
  {
   "cell_type": "code",
   "execution_count": 7,
   "metadata": {
    "scrolled": true
   },
   "outputs": [
    {
     "name": "stdout",
     "output_type": "stream",
     "text": [
      "number of instances:958, number of attributes:10\n"
     ]
    }
   ],
   "source": [
    "df = pd.read_csv('dataset/tic-tac-toe.data', header=None)\n",
    "\n",
    "print(f'number of instances:{df.shape[0]}, number of attributes:{df.shape[1]}')"
   ]
  },
  {
   "cell_type": "code",
   "execution_count": 8,
   "metadata": {},
   "outputs": [],
   "source": [
    "df.columns= ['p'+str(i) for i in range(0,df.shape[1]-1)] + ['y']"
   ]
  },
  {
   "cell_type": "code",
   "execution_count": 9,
   "metadata": {},
   "outputs": [
    {
     "data": {
      "text/html": [
       "<div>\n",
       "<style scoped>\n",
       "    .dataframe tbody tr th:only-of-type {\n",
       "        vertical-align: middle;\n",
       "    }\n",
       "\n",
       "    .dataframe tbody tr th {\n",
       "        vertical-align: top;\n",
       "    }\n",
       "\n",
       "    .dataframe thead th {\n",
       "        text-align: right;\n",
       "    }\n",
       "</style>\n",
       "<table border=\"1\" class=\"dataframe\">\n",
       "  <thead>\n",
       "    <tr style=\"text-align: right;\">\n",
       "      <th></th>\n",
       "      <th>p0</th>\n",
       "      <th>p1</th>\n",
       "      <th>p2</th>\n",
       "      <th>p3</th>\n",
       "      <th>p4</th>\n",
       "      <th>p5</th>\n",
       "      <th>p6</th>\n",
       "      <th>p7</th>\n",
       "      <th>p8</th>\n",
       "      <th>y</th>\n",
       "    </tr>\n",
       "  </thead>\n",
       "  <tbody>\n",
       "    <tr>\n",
       "      <th>0</th>\n",
       "      <td>x</td>\n",
       "      <td>x</td>\n",
       "      <td>x</td>\n",
       "      <td>x</td>\n",
       "      <td>o</td>\n",
       "      <td>o</td>\n",
       "      <td>x</td>\n",
       "      <td>o</td>\n",
       "      <td>o</td>\n",
       "      <td>positive</td>\n",
       "    </tr>\n",
       "    <tr>\n",
       "      <th>1</th>\n",
       "      <td>x</td>\n",
       "      <td>x</td>\n",
       "      <td>x</td>\n",
       "      <td>x</td>\n",
       "      <td>o</td>\n",
       "      <td>o</td>\n",
       "      <td>o</td>\n",
       "      <td>x</td>\n",
       "      <td>o</td>\n",
       "      <td>positive</td>\n",
       "    </tr>\n",
       "    <tr>\n",
       "      <th>2</th>\n",
       "      <td>x</td>\n",
       "      <td>x</td>\n",
       "      <td>x</td>\n",
       "      <td>x</td>\n",
       "      <td>o</td>\n",
       "      <td>o</td>\n",
       "      <td>o</td>\n",
       "      <td>o</td>\n",
       "      <td>x</td>\n",
       "      <td>positive</td>\n",
       "    </tr>\n",
       "    <tr>\n",
       "      <th>3</th>\n",
       "      <td>x</td>\n",
       "      <td>x</td>\n",
       "      <td>x</td>\n",
       "      <td>x</td>\n",
       "      <td>o</td>\n",
       "      <td>o</td>\n",
       "      <td>o</td>\n",
       "      <td>b</td>\n",
       "      <td>b</td>\n",
       "      <td>positive</td>\n",
       "    </tr>\n",
       "    <tr>\n",
       "      <th>4</th>\n",
       "      <td>x</td>\n",
       "      <td>x</td>\n",
       "      <td>x</td>\n",
       "      <td>x</td>\n",
       "      <td>o</td>\n",
       "      <td>o</td>\n",
       "      <td>b</td>\n",
       "      <td>o</td>\n",
       "      <td>b</td>\n",
       "      <td>positive</td>\n",
       "    </tr>\n",
       "  </tbody>\n",
       "</table>\n",
       "</div>"
      ],
      "text/plain": [
       "  p0 p1 p2 p3 p4 p5 p6 p7 p8         y\n",
       "0  x  x  x  x  o  o  x  o  o  positive\n",
       "1  x  x  x  x  o  o  o  x  o  positive\n",
       "2  x  x  x  x  o  o  o  o  x  positive\n",
       "3  x  x  x  x  o  o  o  b  b  positive\n",
       "4  x  x  x  x  o  o  b  o  b  positive"
      ]
     },
     "execution_count": 9,
     "metadata": {},
     "output_type": "execute_result"
    }
   ],
   "source": [
    "df.head()"
   ]
  },
  {
   "cell_type": "code",
   "execution_count": 10,
   "metadata": {},
   "outputs": [
    {
     "data": {
      "text/html": [
       "<div>\n",
       "<style scoped>\n",
       "    .dataframe tbody tr th:only-of-type {\n",
       "        vertical-align: middle;\n",
       "    }\n",
       "\n",
       "    .dataframe tbody tr th {\n",
       "        vertical-align: top;\n",
       "    }\n",
       "\n",
       "    .dataframe thead th {\n",
       "        text-align: right;\n",
       "    }\n",
       "</style>\n",
       "<table border=\"1\" class=\"dataframe\">\n",
       "  <thead>\n",
       "    <tr style=\"text-align: right;\">\n",
       "      <th></th>\n",
       "      <th>p0</th>\n",
       "      <th>p1</th>\n",
       "      <th>p2</th>\n",
       "      <th>p3</th>\n",
       "      <th>p4</th>\n",
       "      <th>p5</th>\n",
       "      <th>p6</th>\n",
       "      <th>p7</th>\n",
       "      <th>p8</th>\n",
       "      <th>y</th>\n",
       "    </tr>\n",
       "  </thead>\n",
       "  <tbody>\n",
       "    <tr>\n",
       "      <th>count</th>\n",
       "      <td>958</td>\n",
       "      <td>958</td>\n",
       "      <td>958</td>\n",
       "      <td>958</td>\n",
       "      <td>958</td>\n",
       "      <td>958</td>\n",
       "      <td>958</td>\n",
       "      <td>958</td>\n",
       "      <td>958</td>\n",
       "      <td>958</td>\n",
       "    </tr>\n",
       "    <tr>\n",
       "      <th>unique</th>\n",
       "      <td>3</td>\n",
       "      <td>3</td>\n",
       "      <td>3</td>\n",
       "      <td>3</td>\n",
       "      <td>3</td>\n",
       "      <td>3</td>\n",
       "      <td>3</td>\n",
       "      <td>3</td>\n",
       "      <td>3</td>\n",
       "      <td>2</td>\n",
       "    </tr>\n",
       "    <tr>\n",
       "      <th>top</th>\n",
       "      <td>x</td>\n",
       "      <td>x</td>\n",
       "      <td>x</td>\n",
       "      <td>x</td>\n",
       "      <td>x</td>\n",
       "      <td>x</td>\n",
       "      <td>x</td>\n",
       "      <td>x</td>\n",
       "      <td>x</td>\n",
       "      <td>positive</td>\n",
       "    </tr>\n",
       "    <tr>\n",
       "      <th>freq</th>\n",
       "      <td>418</td>\n",
       "      <td>378</td>\n",
       "      <td>418</td>\n",
       "      <td>378</td>\n",
       "      <td>458</td>\n",
       "      <td>378</td>\n",
       "      <td>418</td>\n",
       "      <td>378</td>\n",
       "      <td>418</td>\n",
       "      <td>626</td>\n",
       "    </tr>\n",
       "  </tbody>\n",
       "</table>\n",
       "</div>"
      ],
      "text/plain": [
       "         p0   p1   p2   p3   p4   p5   p6   p7   p8         y\n",
       "count   958  958  958  958  958  958  958  958  958       958\n",
       "unique    3    3    3    3    3    3    3    3    3         2\n",
       "top       x    x    x    x    x    x    x    x    x  positive\n",
       "freq    418  378  418  378  458  378  418  378  418       626"
      ]
     },
     "execution_count": 10,
     "metadata": {},
     "output_type": "execute_result"
    }
   ],
   "source": [
    "df.describe()"
   ]
  },
  {
   "cell_type": "markdown",
   "metadata": {},
   "source": [
    "El dataset expone por cada tupla el contenido de las 9 posiciones del tablero de tres en raya, donde juegan dos jugadores denotados por *x* y *o*, así como la resolución de la partida, denotada con la cadena *positive* si ha ganado *x* o *negative* si ha ganado *o*. Por lo tanto, tenemos dos posibles etiquetas.\n",
    "\n",
    "Leyendo el fichero _tic-tact-toe.names_ podemos conocer brevemente cómo se exponen los valores de las variables del dataset, concluyendo que en cada posición del tablero encontraremos una de tres opciones:\n",
    "\n",
    "   > (x=player x has taken, o=player o has taken, b=blank)\n",
    "    \n",
    "Además, es relevante remarcar que se asume que el jugador *x* juega primero."
   ]
  },
  {
   "cell_type": "markdown",
   "metadata": {},
   "source": [
    "    "
   ]
  },
  {
   "cell_type": "markdown",
   "metadata": {},
   "source": [
    "Cargamos los datos contenidos en el Dataframe *df* en arrays de Numpy para facilitar la manipulación de los datos en el código externo a este notebook."
   ]
  },
  {
   "cell_type": "code",
   "execution_count": 11,
   "metadata": {},
   "outputs": [],
   "source": [
    "feature_cols = df.columns[:-1]\n",
    "label_cols = df.columns[-1]"
   ]
  },
  {
   "cell_type": "code",
   "execution_count": 12,
   "metadata": {},
   "outputs": [
    {
     "name": "stdout",
     "output_type": "stream",
     "text": [
      "X.shape(958, 9), y.shape(958,)\n"
     ]
    }
   ],
   "source": [
    "X = np.asarray(df.loc[:, feature_cols])\n",
    "y = np.asarray(df.loc[:, label_cols].ravel())\n",
    "print(f'X.shape{X.shape}, y.shape{y.shape}')"
   ]
  },
  {
   "cell_type": "code",
   "execution_count": 13,
   "metadata": {},
   "outputs": [],
   "source": [
    "num_features = len(X[0])\n",
    "num_labels = 2"
   ]
  },
  {
   "cell_type": "markdown",
   "metadata": {},
   "source": [
    "Para reconocer mejor cómo se comportan los datos de *X* con respecto a sus etiquetas, *y*, dibujamos varios ejemplos en un tablero del juego *Tic tac toe*.\n",
    "\n",
    "De esta forma, podemos conocer cómo se estructuran las variables características sobre el tablero y su relación con *y*, comprendiendo así mejor la naturaleza del problema."
   ]
  },
  {
   "cell_type": "code",
   "execution_count": 14,
   "metadata": {},
   "outputs": [
    {
     "data": {
      "image/png": "[encoded data removed]",
      "text/plain": [
       "<Figure size 90x126 with 1 Axes>"
      ]
     },
     "metadata": {},
     "output_type": "display_data"
    }
   ],
   "source": [
    "drawing.draw_end_game(X[0], y[0], categorical=True)"
   ]
  },
  {
   "cell_type": "code",
   "execution_count": 15,
   "metadata": {},
   "outputs": [
    {
     "data": {
      "image/png": "[encoded data removed]",
      "text/plain": [
       "<Figure size 90x126 with 1 Axes>"
      ]
     },
     "metadata": {},
     "output_type": "display_data"
    }
   ],
   "source": [
    "drawing.draw_end_game(X[500], y[500], categorical=True)"
   ]
  },
  {
   "cell_type": "code",
   "execution_count": 16,
   "metadata": {},
   "outputs": [
    {
     "data": {
      "image/png": "[encoded data removed]",
      "text/plain": [
       "<Figure size 90x126 with 1 Axes>"
      ]
     },
     "metadata": {},
     "output_type": "display_data"
    }
   ],
   "source": [
    "drawing.draw_end_game(X[210], y[210], categorical=True)"
   ]
  },
  {
   "cell_type": "markdown",
   "metadata": {},
   "source": [
    "Observando estos ejemplos comprendemos que, efectivamente, al situarse en el tablero 3 fichas 'x' consecutivas en fila, columna o diagonal, se considera como ganador al jugador 'x'. En caso contrario, podemos afirmar que el ganador será 'o', ya que si el juego no llega a su fin por la victoria de 'x', llega a su fin por la victoria de 'o', no hay posibles empates. Este hecho encaja completamente con la naturaleza de las etiquetas *y*, ya que designan si ganó 'x' u 'o', no deja la posibilidad a empate."
   ]
  },
  {
   "cell_type": "markdown",
   "metadata": {},
   "source": [
    "# Preprocesamiento"
   ]
  },
  {
   "cell_type": "markdown",
   "metadata": {},
   "source": [
    "Para facilitar la manipulación de los datos tanto de *X* como de *y*, vamos a convertir el contenido de ambos arrays de datos categóricos a datos númericos.\n",
    "\n",
    "Para ello, vamos a realizar el siguiente mapeo:\n",
    "\n",
    "- **y** : lo mapearemos correspondientemente dos veces, inicialmente pasará a ser 'x'(positive) u 'o'(negative), después lo convertiremos a '1'(x) o '0'(o). Es decir, guardaremos de *y* sus datos categóricos y sus datos numéricos, permitiendo así posteriores análisis más cómodos.\n",
    "- **X** : ya que los datos iniciales ya contenían 'x' u 'o', solo realizaremos la conversión a '1'(x) o '0'(o). Mantendremos ambas versiones de *X*, al igual que hacíamos con *y*.\n",
    "\n",
    "Consideraremos de ahora en adelante: 0-->'o', 1-->'x', 2-->'b', tanto para *X* como para *y*, aunque *y* no tenga la etiqueta 'b'."
   ]
  },
  {
   "cell_type": "markdown",
   "metadata": {},
   "source": [
    "Para este proceso, definiremos dos funciones que nos ayudarán en las conversiones:"
   ]
  },
  {
   "cell_type": "code",
   "execution_count": 17,
   "metadata": {},
   "outputs": [],
   "source": [
    "convert_to_nums = lambda x : 1 if x == 'x' else (0 if x == 'o' else 2)\n",
    "convert_to_nums = np.vectorize(convert_to_nums)\n",
    "\n",
    "convert_to_cats = lambda x : 'x' if x == 1 else ('o' if x == 0 else 'b')\n",
    "convert_to_cats = np.vectorize(convert_to_cats)"
   ]
  },
  {
   "cell_type": "code",
   "execution_count": 18,
   "metadata": {},
   "outputs": [],
   "source": [
    "X_cat = X # inicialmente X ya esta en version categorica"
   ]
  },
  {
   "cell_type": "code",
   "execution_count": 53,
   "metadata": {
    "scrolled": true
   },
   "outputs": [
    {
     "name": "stdout",
     "output_type": "stream",
     "text": [
      "[1 1 1 1 0 0 1 0 0] X.shape:(958, 9)\n"
     ]
    }
   ],
   "source": [
    "X = convert_to_nums(X_cat)\n",
    "print(X[0], f'X.shape:{X.shape}')"
   ]
  },
  {
   "cell_type": "markdown",
   "metadata": {},
   "source": [
    "Una vez convertida cada variable categórica en una variable numérica, producimos tres variables numéricas _dummy_ por cada variable numérica actual.\n",
    "\n",
    "Cada posición del tablero quedará designada por tres variables numéricas que expongan los siguientes escenarios, según lo que se encuentre en el ejemplo en la posición concreta del tablero:\n",
    "- [1,0,0] es 'o'\n",
    "- [0,1,0] es 'x'\n",
    "- [0,0,1] es 'b'"
   ]
  },
  {
   "cell_type": "code",
   "execution_count": 54,
   "metadata": {
    "scrolled": true
   },
   "outputs": [],
   "source": [
    "onehotencoder = OneHotEncoder(categorical_features = [0,1,2,3,4,5,6,7,8])\n",
    "X = onehotencoder.fit_transform(X).toarray()"
   ]
  },
  {
   "cell_type": "code",
   "execution_count": 55,
   "metadata": {},
   "outputs": [
    {
     "name": "stdout",
     "output_type": "stream",
     "text": [
      "[0. 0. 1. 0. 1. 0. 1. 0. 0. 0. 1. 0. 0. 1. 0. 0. 0. 1. 1. 0. 0. 0. 1. 0.\n",
      " 1. 0. 0.] X.shape:(958, 27)\n"
     ]
    }
   ],
   "source": [
    "print(X[500], f'X.shape:{X.shape}')"
   ]
  },
  {
   "cell_type": "markdown",
   "metadata": {},
   "source": [
    "A continuación, eliminamos todas las terceras columnas ya que es información redudante. Con solo 2 columnas por posición del tablero podemos representar las tres posibilidades de la siguiente forma: \n",
    "- x:'10' \n",
    "- o:'00'\n",
    "- b:'01'\n",
    "\n",
    "Por lo tanto, utilizamos dos columnas como si fueran dos bits, representando las posibilidades de cada posición en base a combinaciones de bits.\n",
    "\n",
    "De esta forma, reducimos las dimensiones del dataset y, además, evitamos el fenómeno conocido como _dummy variable trap_. Las variables _dummy_ son las variables que hemos construido hasta ahora para resolver el problema, son variables que toman un valor 1 o 0 denotando la presencia o ausencia de una característica o categoría. En este caso, el escenario _dummy variable trap_ se encuentra y entiende por la correlación múltiple entre las variables que utilizamos para designar cada posición del tablero. "
   ]
  },
  {
   "cell_type": "code",
   "execution_count": 56,
   "metadata": {},
   "outputs": [],
   "source": [
    "X = np.delete(X, [0,3,6,9,12,15,18,21,24], axis=1)"
   ]
  },
  {
   "cell_type": "code",
   "execution_count": 57,
   "metadata": {
    "scrolled": true
   },
   "outputs": [
    {
     "name": "stdout",
     "output_type": "stream",
     "text": [
      "[0. 1. 1. 0. 0. 0. 1. 0. 1. 0. 0. 1. 0. 0. 1. 0. 0. 0.] X.shape:(958, 18)\n"
     ]
    }
   ],
   "source": [
    "print(X[500], f'X.shape:{X.shape}')"
   ]
  },
  {
   "cell_type": "markdown",
   "metadata": {},
   "source": [
    "Si interpretramos la transformación por el ejemplo *X[0]* podremos ver que es correcta al comparar el resultado con el tablero dibujado previamente sobre el mismo ejemplo. Actualizamos *num_features* para que se mantenga coherente."
   ]
  },
  {
   "cell_type": "code",
   "execution_count": 69,
   "metadata": {},
   "outputs": [],
   "source": [
    "num_features = len(X[0])"
   ]
  },
  {
   "cell_type": "markdown",
   "metadata": {},
   "source": [
    "Realizamos un proceso muy similar con *y* en la conversión a _target_ numérico, a excepción de una interpretación previa en base al etiquetado 'positive' o 'negative. Esta interpretación solo la haremos una vez, por ello no guardamos la función que lo implementa. \n",
    "\n",
    "El valor de *y* 1 denota que la tupla de datos correspondiente pertenece a la clase \"ha ganado x\" mientras que su valor 0 denota que pertenece a la clase \"no ha ganado X\", lo cual es equivalente a \"ha ganado o\" ya que debe haber ganado uno de los dos jugadores, no hay posibilidad de empate."
   ]
  },
  {
   "cell_type": "code",
   "execution_count": 63,
   "metadata": {},
   "outputs": [],
   "source": [
    "y_cat = np.vectorize(lambda x: 'x' if x == 'positive' else 'o')(y)"
   ]
  },
  {
   "cell_type": "code",
   "execution_count": 64,
   "metadata": {
    "scrolled": false
   },
   "outputs": [
    {
     "name": "stdout",
     "output_type": "stream",
     "text": [
      "1 y.shape:(958,)\n"
     ]
    }
   ],
   "source": [
    "y = convert_to_nums(y_cat)\n",
    "print(y[0], f'y.shape:{y.shape}')"
   ]
  },
  {
   "cell_type": "markdown",
   "metadata": {},
   "source": [
    "A continuación, probaremos diferentes tipos de modelos de predicción binaria para posteriormente realizar una comparación y conocer qué metodología de machine learning y con qué configuración ofrece mejores resultados para nuestro problema."
   ]
  },
  {
   "cell_type": "markdown",
   "metadata": {},
   "source": [
    "La implementación de los modelos basados en regresión logística y red neuronal de una capa oculta se encuentra en los ficheros `/log_reg.py` y `neural_net.py`. Estos ficheros exponen los modelos a través de clases cuyo objetivo es proporcionar al exterior una manipulación similar a la que exponen librerías como *scikit-learn*. El código de estos ficheros ha sido recogido de nuestras soluciones a las prácticas desarrolladas a lo largo del curso, con las modificaciones necesarias aplicadas para ser expuesto a través de clases.\n",
    "\n",
    "Además, basándose en la teoría vista en clase y en la red neuronal de una capa oculta implementada en la práctica 4, el fichero `/multilayer_neural_net.py` implementa una red neuronal de n capas ocultas en una clase, similar a los modelos comentados previamente. Hemos decidido utilizar aun así en este notebook solamente la red neuronal de una capa oculta.\n",
    "\n",
    "Creemos que encapsular los modelos en clases de esta forma facilita la manipulación de los mismos y permite una lectura de este documento más clara y sencilla. Por ello, no accederemos a métodos privados de las clases, utilizaremos accesos como `fit()`, `predict()`, etc, como si estuviéramos tratando con un modelo implementado en una librería."
   ]
  },
  {
   "cell_type": "markdown",
   "metadata": {},
   "source": [
    "    "
   ]
  },
  {
   "cell_type": "markdown",
   "metadata": {},
   "source": [
    "Guardamos X e y en local para ahorrar el cómputo utilizado en el preprocesamiento para futuras cargas del notebook."
   ]
  },
  {
   "cell_type": "code",
   "execution_count": 66,
   "metadata": {},
   "outputs": [],
   "source": [
    "np.savetxt(\"dataset/tic-tac-toe_X.csv\", X, delimiter=\",\")\n",
    "np.savetxt(\"dataset/tic-tac-toe_y.csv\", y, delimiter=\",\")"
   ]
  },
  {
   "cell_type": "markdown",
   "metadata": {},
   "source": [
    "# Regresión logística"
   ]
  },
  {
   "cell_type": "code",
   "execution_count": 71,
   "metadata": {},
   "outputs": [],
   "source": [
    "logreg = LogReg(num_features=num_features, num_labels=num_labels,reg_term=5)"
   ]
  },
  {
   "cell_type": "code",
   "execution_count": 72,
   "metadata": {},
   "outputs": [],
   "source": [
    "logreg.fit(X=X, y=y)"
   ]
  },
  {
   "cell_type": "code",
   "execution_count": 73,
   "metadata": {},
   "outputs": [],
   "source": [
    "y_pred = logreg.predict(X=X)"
   ]
  },
  {
   "cell_type": "code",
   "execution_count": 74,
   "metadata": {},
   "outputs": [
    {
     "name": "stdout",
     "output_type": "stream",
     "text": [
      "logreg accuracy:65.34446764091858%\n"
     ]
    }
   ],
   "source": [
    "print(f'logreg accuracy:{logreg.accuracy_score(y,y_pred)}%')"
   ]
  },
  {
   "cell_type": "code",
   "execution_count": 83,
   "metadata": {
    "scrolled": true
   },
   "outputs": [
    {
     "name": "stdout",
     "output_type": "stream",
     "text": [
      "(958, 24310)\n"
     ]
    }
   ],
   "source": [
    "# no olvidar: \n",
    "poly = PolynomialFeatures(8)\n",
    "\n",
    "Xreg = poly.fit_transform(X)\n",
    "print(Xreg.shape)"
   ]
  },
  {
   "cell_type": "markdown",
   "metadata": {},
   "source": [
    "# Red Neuronal"
   ]
  },
  {
   "cell_type": "code",
   "execution_count": null,
   "metadata": {},
   "outputs": [],
   "source": [
    "\n",
    "# usar keras\n",
    "# LINK -> https://www.kdnuggets.com/2017/09/neural-networks-tic-tac-toe-keras.html\n",
    "# LINK -> https://www.pyimagesearch.com/2018/09/10/keras-tutorial-how-to-get-started-with-keras-deep-learning-and-python/"
   ]
  },
  {
   "cell_type": "code",
   "execution_count": 75,
   "metadata": {},
   "outputs": [],
   "source": [
    "num_hidden_nodes = 25"
   ]
  },
  {
   "cell_type": "code",
   "execution_count": 76,
   "metadata": {},
   "outputs": [],
   "source": [
    "nnet = NeuralNet(num_features=num_features, num_hidden_nodes=num_hidden_nodes, num_labels=2)"
   ]
  },
  {
   "cell_type": "code",
   "execution_count": 77,
   "metadata": {},
   "outputs": [],
   "source": [
    "nnet.fit(X=X, y=y)"
   ]
  },
  {
   "cell_type": "code",
   "execution_count": 78,
   "metadata": {},
   "outputs": [],
   "source": [
    "y_pred = nnet.predict(X=X)"
   ]
  },
  {
   "cell_type": "code",
   "execution_count": 79,
   "metadata": {
    "scrolled": false
   },
   "outputs": [
    {
     "name": "stdout",
     "output_type": "stream",
     "text": [
      "neuralnet accuracy:65.34446764091858%\n"
     ]
    }
   ],
   "source": [
    "print(f'neuralnet accuracy:{nnet.accuracy_score(y,y_pred)}%')"
   ]
  },
  {
   "cell_type": "markdown",
   "metadata": {},
   "source": [
    "# Support Vector Machines"
   ]
  },
  {
   "cell_type": "code",
   "execution_count": 80,
   "metadata": {},
   "outputs": [],
   "source": [
    "C, sigma = 1.0, 0.1\n",
    "gamma = lambda s: 1/(2*s**2)"
   ]
  },
  {
   "cell_type": "code",
   "execution_count": 81,
   "metadata": {},
   "outputs": [],
   "source": [
    "svm = SVC(kernel='rbf', C=C, gamma=gamma(sigma))"
   ]
  },
  {
   "cell_type": "code",
   "execution_count": 82,
   "metadata": {},
   "outputs": [
    {
     "data": {
      "text/plain": [
       "SVC(C=1.0, cache_size=200, class_weight=None, coef0=0.0,\n",
       "  decision_function_shape='ovr', degree=3, gamma=49.99999999999999,\n",
       "  kernel='rbf', max_iter=-1, probability=False, random_state=None,\n",
       "  shrinking=True, tol=0.001, verbose=False)"
      ]
     },
     "execution_count": 82,
     "metadata": {},
     "output_type": "execute_result"
    }
   ],
   "source": [
    "svm.fit(X=X,y=y)"
   ]
  },
  {
   "cell_type": "code",
   "execution_count": 83,
   "metadata": {},
   "outputs": [],
   "source": [
    "y_pred = svm.predict(X=X)"
   ]
  },
  {
   "cell_type": "code",
   "execution_count": 84,
   "metadata": {},
   "outputs": [
    {
     "name": "stdout",
     "output_type": "stream",
     "text": [
      "svm accuracy:100.0%\n"
     ]
    }
   ],
   "source": [
    "print(f'svm accuracy:{accuracy_score(y,y_pred)*100}%')"
   ]
  },
  {
   "cell_type": "code",
   "execution_count": 226,
   "metadata": {},
   "outputs": [],
   "source": [
    "# TODO\n",
    "# ya que acierta todas, hacemos train-cv split para ver como rinde con datos nuevos"
   ]
  },
  {
   "cell_type": "code",
   "execution_count": null,
   "metadata": {},
   "outputs": [],
   "source": []
  },
  {
   "cell_type": "code",
   "execution_count": 233,
   "metadata": {},
   "outputs": [],
   "source": [
    "# las siguientes celdas sirven para cargar modulos una y otra vez, para testear cambios en ficheros locales"
   ]
  },
  {
   "cell_type": "code",
   "execution_count": null,
   "metadata": {},
   "outputs": [],
   "source": [
    "%load_ext autoreload"
   ]
  },
  {
   "cell_type": "code",
   "execution_count": 232,
   "metadata": {},
   "outputs": [],
   "source": [
    "%autoreload 0 # 2 para cargar a cada ejecucion los modulos. 0 para no cargar"
   ]
  }
 ],
 "metadata": {
  "kernelspec": {
   "display_name": "Python 3",
   "language": "python",
   "name": "python3"
  },
  "language_info": {
   "codemirror_mode": {
    "name": "ipython",
    "version": 3
   },
   "file_extension": ".py",
   "mimetype": "text/x-python",
   "name": "python",
   "nbconvert_exporter": "python",
   "pygments_lexer": "ipython3",
   "version": "3.6.5"
  }
 },
 "nbformat": 4,
 "nbformat_minor": 2
}
